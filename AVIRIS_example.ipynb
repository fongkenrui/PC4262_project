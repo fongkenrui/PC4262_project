{
 "cells": [
  {
   "cell_type": "code",
   "execution_count": null,
   "metadata": {},
   "outputs": [],
   "source": [
    "import numpy as np\n",
    "import xarray as xr"
   ]
  },
  {
   "cell_type": "markdown",
   "metadata": {},
   "source": [
    "This is an example notebook for AVIRIS radiance data. The dataset is available at: https://aviris.jpl.nasa.gov/dataportal/."
   ]
  },
  {
   "cell_type": "code",
   "execution_count": null,
   "metadata": {},
   "outputs": [],
   "source": [
    "# The datasets are in the form of hierarchically-nested netCDF files, which cannot be opened as a standard xarray dataset.\n",
    "# The files can only be opened as a datatree structure, which is only available in newer versions of xarray.\n",
    "path = 'datasets\\AV320230710t193100_016_L1B_RDN_cbeae6f8_RDN.nc'\n",
    "ds = xr.open_datatree(path)\n",
    "ds"
   ]
  },
  {
   "cell_type": "code",
   "execution_count": null,
   "metadata": {},
   "outputs": [],
   "source": [
    "## Retrieve radiance information & assign arbitrary coordinates\n",
    "samples_coords = np.arange(1234)\n",
    "lines_coords = np.arange(1280)\n",
    "radiance = ds.radiance.radiance.assign_coords({'samples':samples_coords, 'lines':lines_coords})\n",
    "radiance"
   ]
  },
  {
   "cell_type": "code",
   "execution_count": null,
   "metadata": {},
   "outputs": [],
   "source": [
    "radiance.sel(wavelength='2400', method='nearest').plot()"
   ]
  },
  {
   "cell_type": "code",
   "execution_count": null,
   "metadata": {},
   "outputs": [],
   "source": [
    "# Plot the spectrum of a single pixel\n",
    "radiance.sel(lines=600, samples=300).plot()"
   ]
  }
 ],
 "metadata": {
  "kernelspec": {
   "display_name": "PC4262_project",
   "language": "python",
   "name": "python3"
  },
  "language_info": {
   "codemirror_mode": {
    "name": "ipython",
    "version": 3
   },
   "file_extension": ".py",
   "mimetype": "text/x-python",
   "name": "python",
   "nbconvert_exporter": "python",
   "pygments_lexer": "ipython3",
   "version": "3.13.2"
  }
 },
 "nbformat": 4,
 "nbformat_minor": 2
}
