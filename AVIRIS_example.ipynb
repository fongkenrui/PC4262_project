{
 "cells": [
  {
   "cell_type": "code",
   "execution_count": null,
   "metadata": {},
   "outputs": [],
   "source": [
    "import numpy as np\n",
    "import xarray as xr\n",
    "import matplotlib.pyplot as plt\n",
    "import ultraplot as uplt"
   ]
  },
  {
   "cell_type": "markdown",
   "metadata": {},
   "source": [
    "This is an example notebook for AVIRIS radiance data. The dataset is available at: https://aviris.jpl.nasa.gov/dataportal/."
   ]
  },
  {
   "cell_type": "code",
   "execution_count": null,
   "metadata": {},
   "outputs": [],
   "source": [
    "# The datasets are in the form of hierarchically-nested netCDF files, which cannot be opened as a standard xarray dataset.\n",
    "# The files can only be opened as a datatree structure, which is only available in newer versions of xarray.\n",
    "path = 'datasets\\AV320230710t193100_016_L1B_RDN_cbeae6f8_RDN.nc'\n",
    "ds = xr.open_datatree(path)\n",
    "ds"
   ]
  },
  {
   "cell_type": "code",
   "execution_count": null,
   "metadata": {},
   "outputs": [],
   "source": [
    "## Retrieve radiance information & assign arbitrary coordinates\n",
    "samples_coords = np.arange(1234)\n",
    "lines_coords = np.arange(1280)\n",
    "radiance = ds.radiance.radiance.assign_coords({'samples':samples_coords, 'lines':lines_coords})\n",
    "radiance"
   ]
  },
  {
   "cell_type": "code",
   "execution_count": null,
   "metadata": {},
   "outputs": [],
   "source": [
    "radiance.sel(wavelength='766.5', method='nearest').plot()"
   ]
  },
  {
   "cell_type": "code",
   "execution_count": null,
   "metadata": {},
   "outputs": [],
   "source": [
    "# Plot the spectrum of a single pixel\n",
    "radiance.sel(lines=600, samples=300).plot()"
   ]
  },
  {
   "cell_type": "code",
   "execution_count": null,
   "metadata": {},
   "outputs": [],
   "source": [
    "# Calculate the HDFI index\n",
    "radiance_2430 = radiance.sel(wavelength='2430', method='nearest')\n",
    "radiance_2060 = radiance.sel(wavelength='2060', method='nearest')\n",
    "HDFI = (radiance_2430 - radiance_2060)/(radiance_2430 + radiance_2060)"
   ]
  },
  {
   "cell_type": "code",
   "execution_count": null,
   "metadata": {},
   "outputs": [],
   "source": [
    "radiance_2430.plot()"
   ]
  },
  {
   "cell_type": "code",
   "execution_count": null,
   "metadata": {},
   "outputs": [],
   "source": [
    "radiance_2060.plot()"
   ]
  },
  {
   "cell_type": "code",
   "execution_count": null,
   "metadata": {},
   "outputs": [],
   "source": [
    "HDFI.plot()\n",
    "# Values are all negative. There are likely no active fires."
   ]
  },
  {
   "cell_type": "markdown",
   "metadata": {},
   "source": [
    "Data related to the 2025 Palisades fire can be found at:\n",
    "\n",
    "https://www.earthdata.nasa.gov/data/alerts-outages/aviris-3-l1b-radiance-data-related-california-fires-now-available"
   ]
  },
  {
   "cell_type": "code",
   "execution_count": null,
   "metadata": {},
   "outputs": [],
   "source": [
    "pal_rad_path = 'datasets\\palisades_fire\\AV320250111t210400_005_L1B_RDN_3f4aef90_RDN.nc'\n",
    "pal_mask_path = 'datasets\\palisades_fire\\AV320250111t210400_005_L1B_RDN_3f4aef90_BANDMASK.nc'\n",
    "pal_ds = xr.open_datatree(pal_rad_path)\n",
    "pal_ds"
   ]
  },
  {
   "cell_type": "code",
   "execution_count": null,
   "metadata": {},
   "outputs": [],
   "source": [
    "samples_coords = np.arange(1234)\n",
    "lines_coords = np.arange(1280)\n",
    "# Assign dummy coordinates\n",
    "pal_radiance = pal_ds.radiance.radiance.assign_coords({'samples':samples_coords, 'lines':lines_coords})\n",
    "pal_radiance"
   ]
  },
  {
   "cell_type": "code",
   "execution_count": null,
   "metadata": {},
   "outputs": [],
   "source": [
    "pal_mask = xr.open_dataset(pal_mask_path).assign_coords({'samples':samples_coords, 'lines':lines_coords})\n",
    "pal_mask # Band mask file; used for masking out low-quality spectral bands which were interpolated\n",
    "# The 36 bands cover the full wavelength band of 284; each band value is an 8-bit unsigned integer\n",
    "# Which in boolean corresponds to which of the 8 wavelengths in each band were masked."
   ]
  },
  {
   "cell_type": "code",
   "execution_count": null,
   "metadata": {},
   "outputs": [],
   "source": [
    "# Generate an RGB image\n",
    "def normalize(band):\n",
    "    band_min = band.min()\n",
    "    band_max = band.max()\n",
    "    return (band - band_min) / (band_max - band_min)\n",
    "\n",
    "red_ = pal_radiance.sel(wavelength=700, method='nearest')\n",
    "green_ = pal_radiance.sel(wavelength=500, method='nearest')\n",
    "blue_ = pal_radiance.sel(wavelength=300, method='nearest')\n",
    "\n",
    "red = normalize(red_)\n",
    "green = normalize(green_) \n",
    "blue = normalize(blue_)\n",
    "rgb_image = np.dstack((red.values, green.values, blue.values))\n",
    "plt.figure(figsize=(10, 10))\n",
    "plt.imshow(rgb_image)"
   ]
  },
  {
   "cell_type": "code",
   "execution_count": null,
   "metadata": {},
   "outputs": [],
   "source": [
    "red_ = pal_radiance.sel(wavelength=2200, method='nearest')\n",
    "green_ = pal_radiance.sel(wavelength=700, method='nearest')\n",
    "blue_ = pal_radiance.sel(wavelength=300, method='nearest')\n",
    "\n",
    "red = normalize(red_)\n",
    "green = normalize(green_)\n",
    "blue = normalize(blue_)\n",
    "rgb_image = np.dstack((red.values, green.values, blue.values))\n",
    "plt.figure(figsize=(10, 10))\n",
    "plt.imshow(rgb_image)"
   ]
  },
  {
   "cell_type": "code",
   "execution_count": null,
   "metadata": {},
   "outputs": [],
   "source": [
    "# Masking is a pain so let's visualize the original data\n",
    "# Calculate the HDFI index\n",
    "pal_rad_2430 = pal_radiance.sel(wavelength=slice(2420,2440)).mean(dim='wavelength')\n",
    "pal_rad_2060 = pal_radiance.sel(wavelength=slice(2050,2070)).mean(dim='wavelength')\n",
    "pal_HFDI = (pal_rad_2430 - pal_rad_2060)/(pal_rad_2430 + pal_rad_2060)"
   ]
  },
  {
   "cell_type": "code",
   "execution_count": null,
   "metadata": {},
   "outputs": [],
   "source": [
    "fig, ax = uplt.subplots(refwidth=6)\n",
    "pal_HFDI.plot(ax=ax, vmin=-.5, vmax=.5, discrete=False, cmap='RdBu_r')\n",
    "ax.format(\n",
    "    yreverse=True,\n",
    "    suptitle='Palisades Fire 2025-01-11 HFDI Index'\n",
    ")"
   ]
  },
  {
   "cell_type": "code",
   "execution_count": null,
   "metadata": {},
   "outputs": [],
   "source": [
    "bins = np.linspace(-0.4, 0.4, 500)\n",
    "fig, ax = uplt.subplots(refwidth=6, refaspect=(3,1))\n",
    "_ = pal_HDFI.plot.hist(bins=bins, ax=ax)\n",
    "ax.format(\n",
    "    suptitle='Distribution of pixel HFDI'\n",
    ")"
   ]
  }
 ],
 "metadata": {
  "kernelspec": {
   "display_name": "PC4262_project",
   "language": "python",
   "name": "python3"
  },
  "language_info": {
   "codemirror_mode": {
    "name": "ipython",
    "version": 3
   },
   "file_extension": ".py",
   "mimetype": "text/x-python",
   "name": "python",
   "nbconvert_exporter": "python",
   "pygments_lexer": "ipython3",
   "version": "3.13.2"
  }
 },
 "nbformat": 4,
 "nbformat_minor": 2
}
