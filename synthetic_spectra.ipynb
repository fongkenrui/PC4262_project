{
 "cells": [
  {
   "cell_type": "code",
   "execution_count": null,
   "id": "0",
   "metadata": {},
   "outputs": [],
   "source": [
    "import numpy as np\n",
    "import xarray as xr\n",
    "import matplotlib.pyplot as plt\n",
    "import ultraplot as uplt\n",
    "from scipy import stats\n",
    "from scipy import constants as c\n",
    "from scipy.interpolate import make_splrep\n",
    "import warnings"
   ]
  },
  {
   "cell_type": "markdown",
   "id": "1",
   "metadata": {},
   "source": [
    "This notebook is to perform experiments with synthetic data for linear mixture model fitting."
   ]
  },
  {
   "cell_type": "markdown",
   "id": "2",
   "metadata": {},
   "source": [
    "# Model Definition"
   ]
  },
  {
   "cell_type": "code",
   "execution_count": null,
   "id": "3",
   "metadata": {},
   "outputs": [],
   "source": [
    "## Define the linear mixing spectral model\n",
    "## Nonlinear optimization is performed with respect to a simple L^2 loss\n",
    "\n",
    "class SpectralMixtureModel():\n",
    "    # Goal of the model is to infer\n",
    "    # 1) n_fire of T_i (temperatures)\n",
    "    # 2) n_fire of p_i (fire area fractions)\n",
    "    # 3) n_bkg of p_j (fire area fractions)\n",
    "\n",
    "    # There is a need to remove the reflected component of the land surface\n",
    "    # Either from direct sunlight or indirect illumination by the sky\n",
    "\n",
    "    def __init__(\n",
    "        self,\n",
    "        n_fire,\n",
    "        n_bkg,\n",
    "        bkg_spectra_lis, # List of spectra of len n_bkg\n",
    "        # All spectra should be spectral radiances following lambd\n",
    "        SI=True, # Toggle bkg_spectra units from SI to AVIRIS standard\n",
    "    ):\n",
    "        # Design this class to be able to hold arbitrary number of endmembers\n",
    "        # But for actual purposes, have only one to two end members\n",
    "        self.n_fire = n_fire\n",
    "        self.n_bkg = n_bkg\n",
    "        \n",
    "        if len(bkg_spectra_lis) != n_bkg:\n",
    "            raise ValueError(\"n_bkg must be the same as the length of bkg_spectra_lis!\")\n",
    "\n",
    "        if SI:\n",
    "            self.bkg_spectra_lis = bkg_spectra_lis\n",
    "            bkg_spectra_lis_mod = bkg_spectra_lis\n",
    "        else:\n",
    "            print('Converting bkg_spectra to SI...')\n",
    "            bkg_spectra_lis_mod = [(wv, spectra*1e7) for (wv, spectra) in bkg_spectra_lis]\n",
    "            self.bkg_spectra_lis = bkg_spectra_lis_mod\n",
    "\n",
    "        # Create spline functions for the spectra\n",
    "        bkg_spectra_splines = []\n",
    "        for lambd, spectra in bkg_spectra_lis_mod:\n",
    "            spline = make_splrep(\n",
    "                lambd,\n",
    "                spectra,\n",
    "                k=1,\n",
    "                s=0\n",
    "            )\n",
    "            bkg_spectra_splines.append(spline)\n",
    "\n",
    "        self.bkg_spectra_splines = bkg_spectra_splines\n",
    "    \n",
    "    def get_fire_spectra(self, lambd, T_tup):\n",
    "        result_list = list()\n",
    "        for T in T_tup:\n",
    "            spectra = _planck(T, lambd)\n",
    "            result_list.append(spectra)\n",
    "        return result_list\n",
    "    \n",
    "    def get_bkg_spectra(self, lambd):\n",
    "        result_list = list()\n",
    "        for spline in self.bkg_spectra_splines:\n",
    "            result_list.append(spline(lambd))\n",
    "        return result_list\n",
    "\n",
    "    def total_radiance(self, lambd, T_tup, T_fracs, bkg_fracs):\n",
    "        # noise is given as an absolute radiance value for 1 std\n",
    "        fire_spectra = self.get_fire_spectra(lambd, T_tup)\n",
    "        bkg_spectra = self.get_bkg_spectra(lambd)\n",
    "\n",
    "        result = np.zeros_like(lambd)\n",
    "        for frac, spectra in zip(T_fracs, fire_spectra):\n",
    "            result += frac * spectra\n",
    "\n",
    "        for frac, spectra in zip(bkg_fracs, bkg_spectra):\n",
    "            result += frac * spectra\n",
    "        \n",
    "        # Unit conversion\n",
    "        # Output is in SI (W per m per m^2 per sr)\n",
    "        # Want to convert to uW per nm per cm^2 per sr for consistency with AVIRIS\n",
    "        # Multiply by 1e6 / (1e9 * 1e4) -> divide by 1e7\n",
    "        return result*1e-7\n",
    "\n",
    "def _planck(T, lambd):\n",
    "    # Convert lambd from nanometres to metres\n",
    "    lambd_ = lambd * 1e-9\n",
    "    top = 2 * c.h * c.c**2\n",
    "    bottom = lambd_**5 * (np.exp((c.h * c.c)/(lambd_ * c.k * T)) - 1)\n",
    "    return top/bottom"
   ]
  },
  {
   "cell_type": "code",
   "execution_count": null,
   "id": "4",
   "metadata": {},
   "outputs": [],
   "source": [
    "# Synthesize a test spectrum \n",
    "\n",
    "lambd = np.linspace(400, 2500, 200)\n",
    "# Create a thermal background at300K\n",
    "bkg = _planck(300, lambd)\n",
    "\n",
    "test_spectra = SpectralMixtureModel(\n",
    "    n_fire=2,\n",
    "    n_bkg=1,\n",
    "    bkg_spectra_lis=[(lambd, bkg)]\n",
    ")"
   ]
  },
  {
   "cell_type": "code",
   "execution_count": null,
   "id": "5",
   "metadata": {},
   "outputs": [],
   "source": [
    "T_tup = (600, 1200) # Smoldering areas + active burning\n",
    "T_fracs = (0.2, 0.1) # Fire fraction\n",
    "bkg_fracs = (0.7,) # background fraction\n",
    "\n",
    "# Synthesize the spectra\n",
    "analytic = test_spectra.total_radiance(lambd, T_tup, T_fracs, bkg_fracs)\n",
    "sim_obs = analytic + 0.05 * analytic * np.random.randn(len(lambd))"
   ]
  },
  {
   "cell_type": "code",
   "execution_count": null,
   "id": "6",
   "metadata": {},
   "outputs": [],
   "source": [
    "fig, ax = uplt.subplots()\n",
    "ax.plot(lambd, bkg * 1e-7)\n",
    "ax.plot(lambd, 0.2*_planck(600, lambd)*1e-7)\n",
    "ax.plot(lambd, 0.1*_planck(1200, lambd)*1e-7)\n",
    "ax.plot(lambd, analytic)\n",
    "#ax.plot(lambd, sim_obs)"
   ]
  },
  {
   "cell_type": "code",
   "execution_count": null,
   "id": "7",
   "metadata": {},
   "outputs": [],
   "source": [
    "# Model inversion\n",
    "# Define the loss function\n",
    "\n",
    "def return_loss(model, lambd, target):\n",
    "    n_fire = model.n_fire\n",
    "    n_bkg = model.n_bkg\n",
    "\n",
    "    # The parameter vector is an ndarray of shape (2*n_fire + n_bkg-1,)\n",
    "    # Arguments are organized in the following order\n",
    "    # [T_i, p_i_fire, p*_j_bkg]\n",
    "    # Note that in order to satisfy the p_i_fire + p_j_bkg = 1 constraint,\n",
    "    # The last p_j_bkg parameter is omitted and calculated from 1 - all\n",
    "\n",
    "    def loss(params):\n",
    "        # Unpact the parameters and normalize them appropriately\n",
    "        T_tup = tuple(params[:n_fire]*1000) # 1000 K scale\n",
    "        T_fracs = tuple(params[n_fire:2*n_fire])\n",
    "        # Enforcing land fraction constraint\n",
    "        if len(params) >= 2*n_fire:\n",
    "            bkg_fracs = tuple(params[2*n_fire:]) + (1 - np.sum(params[n_fire:]),)\n",
    "        else:\n",
    "            bkg_fracs = (1 - np.sum(params[n_fire:]),)\n",
    "\n",
    "        prediction = model.total_radiance(lambd, T_tup, T_fracs, bkg_fracs)\n",
    "        diff = target - prediction\n",
    "        return np.sum(diff**2) # L2 norm\n",
    "\n",
    "    return loss"
   ]
  },
  {
   "cell_type": "code",
   "execution_count": null,
   "id": "8",
   "metadata": {},
   "outputs": [],
   "source": [
    "loss_func = return_loss(test_spectra, lambd, analytic)"
   ]
  },
  {
   "cell_type": "code",
   "execution_count": null,
   "id": "9",
   "metadata": {},
   "outputs": [],
   "source": [
    "from scipy.optimize import minimize"
   ]
  },
  {
   "cell_type": "code",
   "execution_count": null,
   "id": "10",
   "metadata": {},
   "outputs": [],
   "source": [
    "result = minimize(\n",
    "    fun = loss_func,\n",
    "    x0 = np.array([500, 1000, 0.3, 0.3]),\n",
    "    bounds = [(0,None)]*2 + [(0, 1)]*2, # Bounds from land fractions\n",
    "    method = 'L-BFGS-B'\n",
    ")"
   ]
  },
  {
   "cell_type": "code",
   "execution_count": null,
   "id": "11",
   "metadata": {},
   "outputs": [],
   "source": [
    "result"
   ]
  },
  {
   "cell_type": "code",
   "execution_count": null,
   "id": "12",
   "metadata": {},
   "outputs": [],
   "source": [
    "# Retrieve the parameters from the result\n",
    "def retrieve_params(result, model):\n",
    "    n_fire = model.n_fire\n",
    "    n_bkg = model.n_bkg\n",
    "    params = result.x\n",
    "    T_tup = params[:n_fire] * 1000\n",
    "    T_frac = params[n_fire:2*n_fire]\n",
    "    if len(params) >= 2*n_fire:\n",
    "        bkg_fracs = tuple(params[2*n_fire:]) + (1 - np.sum(params[n_fire:]),)\n",
    "    else:\n",
    "        bkg_fracs = (1 - np.sum(params[n_fire:]),)\n",
    "    print(\"The fire temperatures in K are: \", T_tup)\n",
    "    print(\"The fire fractions are: \", T_frac)\n",
    "    print(\"The background fractions are: \", bkg_fracs)\n",
    "    return T_tup, T_frac, bkg_fracs\n"
   ]
  },
  {
   "cell_type": "code",
   "execution_count": null,
   "id": "13",
   "metadata": {},
   "outputs": [],
   "source": [
    "T_tup_r, T_frac_r, bkg_frac_r = retrieve_params(result, test_spectra)"
   ]
  },
  {
   "cell_type": "code",
   "execution_count": null,
   "id": "14",
   "metadata": {},
   "outputs": [],
   "source": [
    "# parameter retrieval with the noisy data\n",
    "loss_func = return_loss(test_spectra, lambd, sim_obs)\n",
    "result = minimize(\n",
    "    fun = loss_func,\n",
    "    x0 = np.array([500, 1000, 0.3, 0.3]),\n",
    "    bounds = [(0,None)]*2 + [(0, 1)]*2, # Bounds from land fractions\n",
    "    method = 'L-BFGS-B'\n",
    ")\n",
    "retrieve_params(result, test_spectra)"
   ]
  },
  {
   "cell_type": "markdown",
   "id": "15",
   "metadata": {},
   "source": [
    "# Tests with empirical background radiance"
   ]
  },
  {
   "cell_type": "code",
   "execution_count": null,
   "id": "16",
   "metadata": {},
   "outputs": [],
   "source": [
    "from mixture_model import estimate_params"
   ]
  },
  {
   "cell_type": "markdown",
   "id": "17",
   "metadata": {},
   "source": [
    "We extract empirical background radiances from the AVIRIS dataset"
   ]
  },
  {
   "cell_type": "code",
   "execution_count": null,
   "id": "18",
   "metadata": {},
   "outputs": [],
   "source": [
    "pal_rad_path = 'datasets\\palisades_fire\\AV320250111t210400_005_L1B_RDN_3f4aef90_RDN.nc'\n",
    "pal_mask_path = 'datasets\\palisades_fire\\AV320250111t210400_005_L1B_RDN_3f4aef90_BANDMASK.nc'\n",
    "pal_ds = xr.open_datatree(pal_rad_path)\n",
    "pal_ds"
   ]
  },
  {
   "cell_type": "code",
   "execution_count": null,
   "id": "19",
   "metadata": {},
   "outputs": [],
   "source": [
    "samples_coords = np.arange(1234)\n",
    "lines_coords = np.arange(1280)\n",
    "# Assign dummy coordinates\n",
    "pal_radiance = pal_ds.radiance.radiance.assign_coords({'samples':samples_coords, 'lines':lines_coords})\n",
    "pal_radiance"
   ]
  },
  {
   "cell_type": "code",
   "execution_count": null,
   "id": "20",
   "metadata": {},
   "outputs": [],
   "source": [
    "# Generate an RGB image\n",
    "def normalize(band):\n",
    "    band_min = band.min()\n",
    "    band_max = band.max()\n",
    "    return (band - band_min) / (band_max - band_min)\n",
    "\n",
    "red_ = pal_radiance.sel(wavelength=700, method='nearest')\n",
    "green_ = pal_radiance.sel(wavelength=550, method='nearest')\n",
    "blue_ = pal_radiance.sel(wavelength=400, method='nearest')\n",
    "\n",
    "red = normalize(red_)\n",
    "green = normalize(green_) \n",
    "blue = normalize(blue_)\n",
    "rgb_image = np.dstack((red.values, green.values, blue.values))\n",
    "fig, ax = uplt.subplots(refwidth=5)\n",
    "ax.imshow(rgb_image)\n",
    "ax.plot(800, 800, marker='o', c='r', s=5)\n",
    "ax.plot(1090, 550, marker='o', c='b', s=5)"
   ]
  },
  {
   "cell_type": "code",
   "execution_count": null,
   "id": "21",
   "metadata": {},
   "outputs": [],
   "source": [
    "# read the output from the 6s simulation for the wavelength masks\n",
    "sixs_ds = xr.open_dataset('datasets/sixs_output.nc')\n",
    "sixs_ds"
   ]
  },
  {
   "cell_type": "code",
   "execution_count": null,
   "id": "22",
   "metadata": {},
   "outputs": [],
   "source": [
    "wv_mask = sixs_ds.mask"
   ]
  },
  {
   "cell_type": "code",
   "execution_count": null,
   "id": "23",
   "metadata": {},
   "outputs": [],
   "source": [
    "# Sample two non-burning pixels\n",
    "bkg_1_da = pal_radiance.sel(samples=800, lines=800) # Non-snowy pixel\n",
    "bkg_2_da = pal_radiance.sel(samples=1090, lines=550) # Snowy pixel"
   ]
  },
  {
   "cell_type": "code",
   "execution_count": null,
   "id": "24",
   "metadata": {},
   "outputs": [],
   "source": [
    "# Plot the test spectra\n",
    "fig, ax = uplt.subplots(refwidth=5, refaspect=(2,1))\n",
    "ax.plot(bkg_1_da.where(~wv_mask), label='bkg_1')\n",
    "ax.plot(bkg_2_da.where(~wv_mask), label='bkg_2')\n",
    "ax.legend()"
   ]
  },
  {
   "cell_type": "code",
   "execution_count": null,
   "id": "25",
   "metadata": {},
   "outputs": [],
   "source": [
    "masked_lambds = bkg_1_da.where(~wv_mask).dropna(dim='wavelength').wavelength\n",
    "bkg_1 = bkg_1_da.where(~wv_mask).dropna(dim='wavelength').values\n",
    "bkg_2 = bkg_2_da.where(~wv_mask).dropna(dim='wavelength').values"
   ]
  },
  {
   "cell_type": "code",
   "execution_count": null,
   "id": "26",
   "metadata": {},
   "outputs": [],
   "source": [
    "test_model = SpectralMixtureModel(\n",
    "    n_fire=2,\n",
    "    n_bkg=2,\n",
    "    bkg_spectra_lis=[(masked_lambds, bkg_1), (masked_lambds, bkg_2)],\n",
    "    SI=False,\n",
    ")"
   ]
  },
  {
   "cell_type": "code",
   "execution_count": null,
   "id": "27",
   "metadata": {},
   "outputs": [],
   "source": [
    "# Simulate pixel with small burning area\n",
    "T_i = (400, 800) # Burn scar and \n",
    "fire_fracs = (0.1, 0.01)\n",
    "bkg_fracs = (0.15, 0.7)\n",
    "sim_radiance = test_model.total_radiance(masked_lambds, T_i, fire_fracs, bkg_fracs)\n",
    "noisy_radiance = sim_radiance + 0.05 * sim_radiance * np.random.randn(len(masked_lambds))"
   ]
  },
  {
   "cell_type": "code",
   "execution_count": null,
   "id": "28",
   "metadata": {},
   "outputs": [],
   "source": [
    "# Plot the simulated radiance\n",
    "fig, ax = uplt.subplots()\n",
    "ax.plot(masked_lambds, sim_radiance)\n",
    "ax.plot(masked_lambds, noisy_radiance)\n",
    "ax.plot(masked_lambds, 0.15 * bkg_1)\n",
    "ax.plot(masked_lambds, 0.7 * bkg_2)"
   ]
  }
 ],
 "metadata": {
  "kernelspec": {
   "display_name": "PC4262_project",
   "language": "python",
   "name": "python3"
  },
  "language_info": {
   "codemirror_mode": {
    "name": "ipython",
    "version": 3
   },
   "file_extension": ".py",
   "mimetype": "text/x-python",
   "name": "python",
   "nbconvert_exporter": "python",
   "pygments_lexer": "ipython3",
   "version": "3.13.2"
  }
 },
 "nbformat": 4,
 "nbformat_minor": 5
}
