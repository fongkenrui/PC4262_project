{
 "cells": [
  {
   "cell_type": "code",
   "execution_count": null,
   "id": "0",
   "metadata": {},
   "outputs": [],
   "source": [
    "import numpy as np\n",
    "import xarray as xr\n",
    "import matplotlib.pyplot as plt\n",
    "import ultraplot as uplt\n",
    "from scipy import stats\n",
    "from scipy import constants as c\n",
    "from scipy.interpolate import make_splrep\n",
    "import warnings\n",
    "import os"
   ]
  },
  {
   "cell_type": "markdown",
   "id": "1",
   "metadata": {},
   "source": [
    "This notebook is to perform experiments with synthetic data for linear mixture model fitting."
   ]
  },
  {
   "cell_type": "code",
   "execution_count": null,
   "id": "2",
   "metadata": {},
   "outputs": [],
   "source": [
    "## Define the linear mixing spectral model\n",
    "## Nonlinear optimization is performed with respect to a simple L^2 loss\n",
    "from scipy import constants as c\n",
    "from scipy.interpolate import make_splrep\n",
    "\n",
    "class SpectralMixtureModel():\n",
    "    # Goal of the model is to infer\n",
    "    # 1) n_fire of T_i (temperatures)\n",
    "    # 2) n_fire of p_i (fire area fractions)\n",
    "    # 3) n_bkg of p_j (fire area fractions)\n",
    "\n",
    "    # There is a need to remove the reflected component of the land surface\n",
    "    # Either from direct sunlight or indirect illumination by the sky\n",
    "\n",
    "    def __init__(\n",
    "        self,\n",
    "        n_fire,\n",
    "        n_bkg,\n",
    "        bkg_spectra_lis, # List of spectra of len n_bkg\n",
    "        # All spectra should be spectral radiances following lambd\n",
    "    ):\n",
    "        # Design this class to be able to hold arbitrary number of endmembers\n",
    "        # But for actual purposes, have only one to two end members\n",
    "        self.n_fire = n_fire\n",
    "        self.n_bkg = n_bkg\n",
    "        \n",
    "        if len(bkg_spectra_lis) != n_bkg:\n",
    "            raise ValueError(\"n_bkg must be the same as the length of bkg_spectra_lis!\")\n",
    "        self.bkg_spectra_lis = bkg_spectra_lis\n",
    "\n",
    "        # Create spline functions for the spectra\n",
    "        bkg_spectra_splines = []\n",
    "        for lambd, spectra in bkg_spectra_lis:\n",
    "            spline = make_splrep(\n",
    "                lambd,\n",
    "                spectra,\n",
    "                k=1,\n",
    "                s=0\n",
    "            )\n",
    "            bkg_spectra_splines.append(spline)\n",
    "\n",
    "        self.bkg_spectra_splines = bkg_spectra_splines\n",
    "    \n",
    "    def get_fire_spectra(self, lambd, T_tup):\n",
    "        result_list = list()\n",
    "        for T in T_tup:\n",
    "            spectra = _planck(T, lambd)\n",
    "            result_list.append(spectra)\n",
    "        return np.array(result_list)\n",
    "    \n",
    "    def get_bkg_spectra(self, lambd):\n",
    "        result_list = list()\n",
    "        for spline in self.bkg_spectra_splines:\n",
    "            result_list.append(spline(lambd))\n",
    "        return np.array(result_list)\n",
    "\n",
    "    def total_radiance(self, lambd, T_tup, T_fracs, bkg_fracs):\n",
    "        # noise is given as an absolute radiance value for 1 std\n",
    "        fire_spectra = self.get_fire_spectra(lambd, T_tup)\n",
    "        bkg_spectra = self.get_bkg_spectra(lambd)\n",
    "\n",
    "        result = np.zeros_like(lambd)\n",
    "        for frac, spectra in zip(T_fracs, fire_spectra):\n",
    "            result += frac * spectra\n",
    "\n",
    "        for frac, spectra in zip(bkg_fracs, bkg_spectra):\n",
    "            result += frac * spectra\n",
    "        \n",
    "        # Unit conversion\n",
    "        # Output is in SI (W per m per m^2 per sr)\n",
    "        # Want to convert to uW per nm per cm^2 per sr for consistency with AVIRIS\n",
    "        # Multiply by 1e6 / (1e9 * 1e4) -> divide by 1e7\n",
    "        return result*1e-7\n",
    "\n",
    "def _planck(T, lambd):\n",
    "    # Convert lambd from nanometres to metres\n",
    "    lambd_ = lambd * 1e-9\n",
    "    top = 2 * c.h * c.c**2\n",
    "    bottom = lambd_**5 * (np.exp((c.h * c.c)/(lambd_ * c.k * T)) - 1)\n",
    "    return top/bottom"
   ]
  },
  {
   "cell_type": "code",
   "execution_count": null,
   "id": "3",
   "metadata": {},
   "outputs": [],
   "source": [
    "# Synthesize a test spectrum \n",
    "\n",
    "lambd = np.linspace(400, 2500, 200)\n",
    "# Create a thermal background at300K\n",
    "bkg = _planck(300, lambd)\n",
    "\n",
    "test_spectra = SpectralMixtureModel(\n",
    "    n_fire=2,\n",
    "    n_bkg=1,\n",
    "    bkg_spectra_lis=[(lambd, bkg)]\n",
    ")"
   ]
  },
  {
   "cell_type": "code",
   "execution_count": null,
   "id": "4",
   "metadata": {},
   "outputs": [],
   "source": [
    "T_tup = (600, 1200) # Smoldering areas + active burning\n",
    "T_fracs = (0.2, 0.1) # Fire fraction\n",
    "bkg_fracs = (0.7,) # background fraction\n",
    "\n",
    "# Synthesize the spectra\n",
    "analytic = test_spectra.total_radiance(lambd, T_tup, T_fracs, bkg_fracs)\n",
    "sim_obs = analytic + (0.05 * analytic * np.random.randn(len(lambd)))"
   ]
  },
  {
   "cell_type": "code",
   "execution_count": null,
   "id": "5",
   "metadata": {},
   "outputs": [],
   "source": [
    "fig, ax = uplt.subplots(figsize=(5,5))\n",
    "ax.plot(lambd, 0.7*bkg * 1e-7)\n",
    "ax.plot(lambd, 0.2*_planck(600, lambd)*1e-7, label='Smoldering area')\n",
    "ax.plot(lambd, 0.1*_planck(1200, lambd)*1e-7, label='Burning fire')\n",
    "ax.plot(lambd, analytic, label='Synthesised spectra')\n",
    "ax.legend()\n",
    "\n",
    "ax.set_xlabel('Wavelength (nm)')\n",
    "ax.set_ylabel(r'Radiance (W/m/$\\text{m}^2$/sr)')"
   ]
  },
  {
   "cell_type": "markdown",
   "id": "6",
   "metadata": {},
   "source": [
    "# Plotting radiances for noisy synthetic data\n",
    "Background fraction: 0.7\n",
    "Smoldering areas fraction: 0.2,\n",
    "Active fire fraction: 0.1,\n",
    "\n",
    "Background temperature: 300 K,\n",
    "Smoldering areas temperature: 600 K ,\n",
    "Active fire temperature: 1200 K"
   ]
  },
  {
   "cell_type": "code",
   "execution_count": null,
   "id": "7",
   "metadata": {},
   "outputs": [],
   "source": [
    "fig, ax = uplt.subplots(figsize=(5,5))\n",
    "ax.plot(lambd, 0.7*bkg * 1e-7, label='Background')\n",
    "ax.plot(lambd, 0.2*_planck(600, lambd)*1e-7, label=f'Smoldering area')\n",
    "ax.plot(lambd, 0.1*_planck(1200, lambd)*1e-7, label='Burning fire')\n",
    "ax.plot(lambd, sim_obs, label='Synthesised spectrum with noise')\n",
    "ax.legend()\n",
    "\n",
    "ax.set_xlabel('Wavelength / nm')\n",
    "ax.set_ylabel(r'Spectral Radiance / W/nm $\\text{cm}^2$ sr')\n",
    "ax.set_title('Radiances in synthetic data')\n",
    "\n",
    "plt.tight_layout()\n",
    "# fig_path = os.path.join('figs', 'synthetic_plots', 'radiances_with_noise.png')\n",
    "# plt.savefig(fig_path, dpi=300)"
   ]
  },
  {
   "cell_type": "code",
   "execution_count": null,
   "id": "8",
   "metadata": {},
   "outputs": [],
   "source": [
    "# Model inversion\n",
    "# Define the loss function\n",
    "\n",
    "def return_loss(model, lambd, target):\n",
    "    n_fire = model.n_fire\n",
    "    n_bkg = model.n_bkg\n",
    "\n",
    "    # The parameter vector is an ndarray of shape (2*n_fire + n_bkg-1,)\n",
    "    # Arguments are organized in the following order\n",
    "    # [T_i, p_i_fire, p*_j_bkg]\n",
    "    # Note that in order to satisfy the p_i_fire + p_j_bkg = 1 constraint,\n",
    "    # The last p_j_bkg parameter is omitted and calculated from 1 - all\n",
    "\n",
    "    def loss(params):\n",
    "        # Unpact the parameters and normalize them appropriately\n",
    "        T_tup = tuple(params[:n_fire]*1000) # 1000 K scale\n",
    "        T_fracs = tuple(params[n_fire:2*n_fire])\n",
    "        # Enforcing land fraction constraint\n",
    "        if len(params) >= 2*n_fire:\n",
    "            bkg_fracs = tuple(params[2*n_fire:]) + (1 - np.sum(params[n_fire:]),)\n",
    "        else:\n",
    "            bkg_fracs = (1 - np.sum(params[n_fire:]),)\n",
    "\n",
    "        prediction = model.total_radiance(lambd, T_tup, T_fracs, bkg_fracs)\n",
    "        diff = target - prediction\n",
    "        return np.sum(diff**2) # L2 norm\n",
    "\n",
    "    return loss"
   ]
  },
  {
   "cell_type": "code",
   "execution_count": null,
   "id": "9",
   "metadata": {},
   "outputs": [],
   "source": [
    "loss_func = return_loss(test_spectra, lambd, analytic)"
   ]
  },
  {
   "cell_type": "code",
   "execution_count": null,
   "id": "10",
   "metadata": {},
   "outputs": [],
   "source": [
    "from scipy.optimize import minimize"
   ]
  },
  {
   "cell_type": "code",
   "execution_count": null,
   "id": "11",
   "metadata": {},
   "outputs": [],
   "source": [
    "result = minimize(\n",
    "    fun = loss_func,\n",
    "    x0 = np.array([500, 1000, 0.3, 0.3]),\n",
    "    bounds = [(0,None)]*2 + [(0, 1)]*2, # Bounds from land fractions\n",
    "    method = 'L-BFGS-B'\n",
    ")"
   ]
  },
  {
   "cell_type": "code",
   "execution_count": null,
   "id": "12",
   "metadata": {},
   "outputs": [],
   "source": [
    "result.x"
   ]
  },
  {
   "cell_type": "code",
   "execution_count": null,
   "id": "13",
   "metadata": {},
   "outputs": [],
   "source": [
    "# Retrieve the parameters from the result\n",
    "def retrieve_params(result, model):\n",
    "    n_fire = model.n_fire\n",
    "    n_bkg = model.n_bkg\n",
    "    params = result.x\n",
    "    T_tup = params[:n_fire] * 1000\n",
    "    T_frac = params[n_fire:2*n_fire]\n",
    "    if len(params) >= 2*n_fire:\n",
    "        bkg_fracs = tuple(params[2*n_fire:]) + (1 - np.sum(params[n_fire:]),)\n",
    "    else:\n",
    "        bkg_fracs = (1 - np.sum(params[n_fire:]),)\n",
    "    print(\"The fire temperatures in K are: \", T_tup)\n",
    "    print(\"The fire fractions are: \", T_frac)\n",
    "    print(\"The background fractions are: \", bkg_fracs)\n",
    "    return T_tup, T_frac, bkg_fracs\n"
   ]
  },
  {
   "cell_type": "code",
   "execution_count": null,
   "id": "14",
   "metadata": {},
   "outputs": [],
   "source": [
    "T_tup_r, T_frac_r, bkg_frac_r = retrieve_params(result, test_spectra)"
   ]
  },
  {
   "cell_type": "code",
   "execution_count": null,
   "id": "15",
   "metadata": {},
   "outputs": [],
   "source": [
    "# parameter retrieval with the noisy data\n",
    "loss_func = return_loss(test_spectra, lambd, sim_obs)\n",
    "result = minimize(\n",
    "    fun = loss_func,\n",
    "    x0 = np.array([500, 1000, 0.3, 0.3]),\n",
    "    bounds = [(0,None)]*2 + [(0, 1)]*2, # Bounds from land fractions\n",
    "    method = 'L-BFGS-B'\n",
    ")\n",
    "T_tup_result, T_frac_result, bkg_frac_result = retrieve_params(result, test_spectra)"
   ]
  },
  {
   "cell_type": "markdown",
   "id": "16",
   "metadata": {},
   "source": [
    "# Comparing synthetic data and output from linear mixture model"
   ]
  },
  {
   "cell_type": "code",
   "execution_count": null,
   "id": "17",
   "metadata": {},
   "outputs": [],
   "source": [
    "smoldering_radiance_result = _planck(T_tup_result[0], lambd)\n",
    "active_fire_radiance_result = _planck(T_tup_result[1], lambd)\n",
    "\n",
    "bkg_radiance_result = _planck(300, lambd)"
   ]
  },
  {
   "cell_type": "code",
   "execution_count": null,
   "id": "18",
   "metadata": {},
   "outputs": [],
   "source": [
    "fig, axs = plt.subplots(nrows=1, ncols=2)\n",
    "ax1 = axs[0]\n",
    "ax2 = axs[1]\n",
    "\n",
    "ax1.plot(lambd, 0.7*bkg * 1e-7, label='Background')\n",
    "ax1.plot(lambd, 0.2*_planck(600, lambd)*1e-7, label=f'Smoldering area')\n",
    "ax1.plot(lambd, 0.1*_planck(1200, lambd)*1e-7, label='Active fire')\n",
    "ax1.plot(lambd, sim_obs, label='Synthesised spectrum with noise')\n",
    "ax1.legend()\n",
    "\n",
    "ax1.set_xlabel('Wavelength (nm)')\n",
    "ax1.set_ylabel(r'Radiance (W/m/$\\text{m}^2$/sr)')\n",
    "ax1.set_title('Radiances in synthetic data')\n",
    "\n",
    "lmm_output = (T_frac_result[0] * smoldering_radiance_result*1e-7 + \n",
    "T_frac_result[1] * active_fire_radiance_result*1e-7 + \n",
    "bkg_frac_result[0] * bkg_radiance_result*1e-7)\n",
    "ax2.plot(lambd, T_frac_result[0] * smoldering_radiance_result*1e-7, label='Smoldering area')\n",
    "ax2.plot(lambd, T_frac_result[1] * active_fire_radiance_result*1e-7, label='Active fire')\n",
    "ax2.plot(lambd, bkg_frac_result[0] * bkg_radiance_result*1e-7, label='Background')\n",
    "ax2.plot(lambd, lmm_output, label='Linear mixture model output')\n",
    "\n",
    "ax2.set\n",
    "\n",
    "ax2.legend()\n",
    "# plt.tight_layout()"
   ]
  },
  {
   "cell_type": "code",
   "execution_count": null,
   "id": "19",
   "metadata": {},
   "outputs": [],
   "source": []
  }
 ],
 "metadata": {
  "kernelspec": {
   "display_name": "PC4262_project",
   "language": "python",
   "name": "python3"
  },
  "language_info": {
   "codemirror_mode": {
    "name": "ipython",
    "version": 3
   },
   "file_extension": ".py",
   "mimetype": "text/x-python",
   "name": "python",
   "nbconvert_exporter": "python",
   "pygments_lexer": "ipython3",
   "version": "3.13.2"
  }
 },
 "nbformat": 4,
 "nbformat_minor": 5
}
