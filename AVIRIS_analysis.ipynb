{
 "cells": [
  {
   "cell_type": "code",
   "execution_count": null,
   "id": "0",
   "metadata": {},
   "outputs": [],
   "source": [
    "import numpy as np\n",
    "import xarray as xr\n",
    "import matplotlib.pyplot as plt\n",
    "import ultraplot as uplt\n",
    "from scipy import stats\n",
    "from Py6S import *"
   ]
  },
  {
   "cell_type": "code",
   "execution_count": null,
   "id": "1",
   "metadata": {},
   "outputs": [],
   "source": [
    "SixS.test()"
   ]
  },
  {
   "cell_type": "markdown",
   "id": "2",
   "metadata": {},
   "source": [
    "# Hotspot Identification"
   ]
  },
  {
   "cell_type": "code",
   "execution_count": null,
   "id": "3",
   "metadata": {},
   "outputs": [],
   "source": [
    "pal_rad_path = 'datasets\\palisades_fire\\AV320250111t210400_005_L1B_RDN_3f4aef90_RDN.nc'\n",
    "pal_mask_path = 'datasets\\palisades_fire\\AV320250111t210400_005_L1B_RDN_3f4aef90_BANDMASK.nc'\n",
    "pal_ds = xr.open_datatree(pal_rad_path)\n",
    "pal_ds"
   ]
  },
  {
   "cell_type": "code",
   "execution_count": null,
   "id": "4",
   "metadata": {},
   "outputs": [],
   "source": [
    "pal_obs_path = 'datasets\\palisades_fire\\AV320250111t210400_005_L1B_ORT_8827a51f_OBS.nc'\n",
    "obs_ds = xr.open_datatree(pal_obs_path) # Observational parameters\n",
    "obs_ds "
   ]
  },
  {
   "cell_type": "code",
   "execution_count": null,
   "id": "5",
   "metadata": {},
   "outputs": [],
   "source": [
    "samples_coords = np.arange(1234)\n",
    "lines_coords = np.arange(1280)\n",
    "# Assign dummy coordinates\n",
    "pal_radiance = pal_ds.radiance.radiance.assign_coords({'samples':samples_coords, 'lines':lines_coords})\n",
    "pal_radiance"
   ]
  },
  {
   "cell_type": "code",
   "execution_count": null,
   "id": "6",
   "metadata": {},
   "outputs": [],
   "source": [
    "# observation parameters\n",
    "obs_params = obs_ds.observation_parameters.to_dataset().assign_coords({'samples':samples_coords, 'lines':lines_coords})\n",
    "obs_params"
   ]
  },
  {
   "cell_type": "markdown",
   "id": "7",
   "metadata": {},
   "source": [
    "# Sample Images/Plots"
   ]
  },
  {
   "cell_type": "code",
   "execution_count": null,
   "id": "8",
   "metadata": {},
   "outputs": [],
   "source": [
    "# Generate an RGB image\n",
    "def normalize(band):\n",
    "    band_min = band.min()\n",
    "    band_max = band.max()\n",
    "    return (band - band_min) / (band_max - band_min)\n",
    "\n",
    "red_ = pal_radiance.sel(wavelength=700, method='nearest')\n",
    "green_ = pal_radiance.sel(wavelength=550, method='nearest')\n",
    "blue_ = pal_radiance.sel(wavelength=400, method='nearest')\n",
    "\n",
    "red = normalize(red_)\n",
    "green = normalize(green_) \n",
    "blue = normalize(blue_)\n",
    "rgb_image = np.dstack((red.values, green.values, blue.values))\n",
    "plt.figure(figsize=(5, 5))\n",
    "plt.imshow(rgb_image)"
   ]
  },
  {
   "cell_type": "code",
   "execution_count": null,
   "id": "9",
   "metadata": {},
   "outputs": [],
   "source": [
    "red_ = pal_radiance.sel(wavelength=2200, method='nearest')\n",
    "green_ = pal_radiance.sel(wavelength=700, method='nearest')\n",
    "blue_ = pal_radiance.sel(wavelength=550, method='nearest')\n",
    "\n",
    "red = normalize(red_)\n",
    "green = normalize(green_)\n",
    "blue = normalize(blue_)\n",
    "rgb_image = np.dstack((red.values, green.values, blue.values))\n",
    "plt.figure(figsize=(5, 5))\n",
    "plt.imshow(rgb_image)"
   ]
  },
  {
   "cell_type": "code",
   "execution_count": null,
   "id": "10",
   "metadata": {},
   "outputs": [],
   "source": [
    "# Visualize the observation parameters\n",
    "fig, ax = uplt.subplots(ncols=2)\n",
    "obs_params.path_length.plot(ax=ax[0])\n",
    "ax[0].format(\n",
    "    title='Path Length',\n",
    "    yreverse=True,\n",
    ")\n",
    "\n",
    "obs_params.cosine_i.plot(ax=ax[1])\n",
    "ax[1].format(\n",
    "    title='cosine_i',\n",
    "    yreverse=True,\n",
    ")"
   ]
  },
  {
   "cell_type": "code",
   "execution_count": null,
   "id": "11",
   "metadata": {},
   "outputs": [],
   "source": [
    "# Visualize the observation parameters\n",
    "fig, axs = uplt.subplots(nrows=2, ncols=2)\n",
    "\n",
    "ax = axs[0,0]\n",
    "obs_params.to_sun_zenith.plot(ax=ax)\n",
    "ax.format(\n",
    "    title='Solar Zenith Angle',\n",
    "    yreverse=True,\n",
    ")\n",
    "\n",
    "ax = axs[0,1]\n",
    "obs_params.to_sun_azimuth.plot(ax=ax)\n",
    "ax.format(\n",
    "    title='Solar Azimuth Angle',\n",
    "    yreverse=True,\n",
    ")\n",
    "\n",
    "ax = axs[1,0]\n",
    "obs_params.to_sensor_zenith.plot(ax=ax)\n",
    "ax.format(\n",
    "    title='Sensor Zenith Angle',\n",
    "    yreverse=True,\n",
    ")\n",
    "\n",
    "ax = axs[1,1]\n",
    "obs_params.to_sensor_azimuth.plot(ax=ax)\n",
    "ax.format(\n",
    "    title='Sensor Azimuth Angle',\n",
    "    yreverse=True,\n",
    ")"
   ]
  },
  {
   "cell_type": "markdown",
   "id": "12",
   "metadata": {},
   "source": [
    "Both the solar zenith angle and azimuth angle can be treated as approximately constant throughout the read area.\n",
    "As for the sensor zenith angle and azimuth angle, there is considerable variation in the angles across the sample dimension, because the sensor is read from a pushbroom sensor on an aircraft. Therefore from an aircraft altitude, the line-of-sight angle from left-to-right across the pushbroom varies significantly."
   ]
  },
  {
   "cell_type": "markdown",
   "id": "13",
   "metadata": {},
   "source": [
    "# Simplified Atmospheric Correction"
   ]
  },
  {
   "cell_type": "code",
   "execution_count": null,
   "id": "14",
   "metadata": {},
   "outputs": [],
   "source": [
    "# From path length we assume an altitude of 5km"
   ]
  },
  {
   "cell_type": "markdown",
   "id": "15",
   "metadata": {},
   "source": [
    "# HFDI Hotspot"
   ]
  },
  {
   "cell_type": "code",
   "execution_count": null,
   "id": "16",
   "metadata": {},
   "outputs": [],
   "source": [
    "# Calculate the HDFI index\n",
    "pal_rad_2430 = pal_radiance.sel(wavelength=slice(2420,2440)).mean(dim='wavelength')\n",
    "pal_rad_2060 = pal_radiance.sel(wavelength=slice(2050,2070)).mean(dim='wavelength')\n",
    "pal_HFDI = (pal_rad_2430 - pal_rad_2060)/(pal_rad_2430 + pal_rad_2060)"
   ]
  },
  {
   "cell_type": "code",
   "execution_count": null,
   "id": "17",
   "metadata": {},
   "outputs": [],
   "source": [
    "fig, ax = uplt.subplots(refwidth=6)\n",
    "pal_HFDI.plot(ax=ax, vmin=-.5, vmax=.5, discrete=False, cmap='RdBu_r')\n",
    "ax.format(\n",
    "    yreverse=True,\n",
    "    suptitle='Palisades Fire 2025-01-11 HFDI Index'\n",
    ")"
   ]
  },
  {
   "cell_type": "code",
   "execution_count": null,
   "id": "18",
   "metadata": {},
   "outputs": [],
   "source": [
    "bins = np.linspace(-0.4, 0.4, 500)\n",
    "fig, ax = uplt.subplots(refwidth=6, refaspect=(3,1))\n",
    "_ = pal_HFDI.plot.hist(bins=bins, ax=ax)\n",
    "ax.format(\n",
    "    suptitle='Distribution of pixel HFDI'\n",
    ")"
   ]
  },
  {
   "cell_type": "markdown",
   "id": "19",
   "metadata": {},
   "source": [
    "This distribution looks like a skew-normal with a long-tail anomaly. Assume that background pixels follow a skew-normal distribution, and use this to determine an appropriate threshold."
   ]
  },
  {
   "cell_type": "code",
   "execution_count": null,
   "id": "20",
   "metadata": {},
   "outputs": [],
   "source": [
    "# Truncate the long tail\n",
    "pal_dist = pal_HFDI.values.flatten()\n",
    "pal_HFDI_trunc = pal_dist[pal_dist < -0.06] "
   ]
  },
  {
   "cell_type": "code",
   "execution_count": null,
   "id": "21",
   "metadata": {},
   "outputs": [],
   "source": [
    "# Retrieve the histogram counts\n",
    "hist, bin_edges = np.histogram(pal_HFDI_trunc, bins=bins, density=True)\n",
    "bin_centers = .5 * (bin_edges[1:] + bin_edges[:-1])\n",
    "# Stack all values into one single vector\n",
    "hist_original, bin_edges_original = np.histogram(pal_dist, bins=bins, density=True)\n",
    "bin_centers_original = .5 * (bin_edges_original[1:] + bin_edges_original[:-1])"
   ]
  },
  {
   "cell_type": "code",
   "execution_count": null,
   "id": "22",
   "metadata": {},
   "outputs": [],
   "source": [
    "result = stats.skewnorm.fit(\n",
    "    data=pal_HFDI_trunc,\n",
    ")"
   ]
  },
  {
   "cell_type": "code",
   "execution_count": null,
   "id": "23",
   "metadata": {},
   "outputs": [],
   "source": [
    "shape, loc, scale = result\n",
    "print(f\"Shape (a): {shape}, Location (loc): {loc}, Scale (scale): {scale}\")"
   ]
  },
  {
   "cell_type": "code",
   "execution_count": null,
   "id": "24",
   "metadata": {},
   "outputs": [],
   "source": [
    "# Plot the fitted distribution\n",
    "skewnorm_pdf = stats.skewnorm.pdf(x=bin_centers, a=shape, loc=loc, scale=scale)"
   ]
  },
  {
   "cell_type": "code",
   "execution_count": null,
   "id": "25",
   "metadata": {},
   "outputs": [],
   "source": [
    "fig, ax = uplt.subplots()\n",
    "ax.plot(bin_centers_original, hist_original)\n",
    "ax.plot(bin_centers, 0.92 * skewnorm_pdf)"
   ]
  },
  {
   "cell_type": "code",
   "execution_count": null,
   "id": "26",
   "metadata": {},
   "outputs": [],
   "source": [
    "# Define a fire mask\n",
    "fire_mask = (pal_HFDI>-0.03)"
   ]
  },
  {
   "cell_type": "code",
   "execution_count": null,
   "id": "27",
   "metadata": {},
   "outputs": [],
   "source": [
    "fig, ax = uplt.subplots(refwidth=6)\n",
    "fire_mask.plot(ax=ax, vmin=-.5, vmax=.5, discrete=False, cmap='RdBu_r')\n",
    "ax.format(\n",
    "    yreverse=True,\n",
    "    suptitle='Palisades Fire 2025-01-11 HFDI > -0.03'\n",
    ")"
   ]
  },
  {
   "cell_type": "markdown",
   "id": "28",
   "metadata": {},
   "source": [
    "# Test with individual pixels"
   ]
  },
  {
   "cell_type": "code",
   "execution_count": null,
   "id": "29",
   "metadata": {},
   "outputs": [],
   "source": [
    "# choose a fire pixel\n",
    "fire_pixel = pal_radiance.sel(samples=1200, lines=50)\n",
    "print('Fire pixel HFDI:', pal_HFDI.sel(samples=1200, lines=50).values)\n",
    "# choose an unburnt pixel\n",
    "unburnt_pixel = pal_radiance.sel(samples=200, lines=600)\n",
    "print('Unburnt pixel HFDI:', pal_HFDI.sel(samples=200, lines=600).values)"
   ]
  },
  {
   "cell_type": "code",
   "execution_count": null,
   "id": "30",
   "metadata": {},
   "outputs": [],
   "source": [
    "# Plot the test spectra\n",
    "fig, ax = uplt.subplots(refwidth=5, refaspect=(2,1))\n",
    "ax.plot(fire_pixel, label='Fire pixel')\n",
    "ax.plot(unburnt_pixel, label='Unburnt pixel')\n",
    "ax.legend()"
   ]
  }
 ],
 "metadata": {
  "kernelspec": {
   "display_name": "PC4262_project",
   "language": "python",
   "name": "python3"
  },
  "language_info": {
   "codemirror_mode": {
    "name": "ipython",
    "version": 3
   },
   "file_extension": ".py",
   "mimetype": "text/x-python",
   "name": "python",
   "nbconvert_exporter": "python",
   "pygments_lexer": "ipython3",
   "version": "3.13.2"
  }
 },
 "nbformat": 4,
 "nbformat_minor": 5
}
