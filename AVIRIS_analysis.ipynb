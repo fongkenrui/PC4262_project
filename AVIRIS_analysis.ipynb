{
 "cells": [
  {
   "cell_type": "code",
   "execution_count": null,
   "id": "0",
   "metadata": {},
   "outputs": [],
   "source": [
    "import numpy as np\n",
    "import xarray as xr\n",
    "import matplotlib.pyplot as plt\n",
    "import ultraplot as uplt\n",
    "from scipy import stats\n",
    "from Py6S import *\n",
    "import numpy.ma as ma\n",
    "import os\n",
    "\n",
    "from scipy.optimize import minimize"
   ]
  },
  {
   "cell_type": "code",
   "execution_count": null,
   "id": "1",
   "metadata": {},
   "outputs": [],
   "source": [
    "SixS.test()"
   ]
  },
  {
   "cell_type": "markdown",
   "id": "2",
   "metadata": {},
   "source": [
    "# Hotspot Identification"
   ]
  },
  {
   "cell_type": "code",
   "execution_count": null,
   "id": "3",
   "metadata": {},
   "outputs": [],
   "source": [
    "dataset_path = os.path.join('datasets', 'palisades_fire')\n",
    "pal_rad_path = os.path.join(dataset_path, 'AV320250111t210400_005_L1B_RDN_3f4aef90_RDN.nc')\n",
    "pal_mask_path = os.path.join(dataset_path, 'AV320250111t210400_005_L1B_RDN_3f4aef90_BANDMASK.nc')\n",
    "pal_ds = xr.open_datatree(pal_rad_path)\n",
    "pal_ds"
   ]
  },
  {
   "cell_type": "code",
   "execution_count": null,
   "id": "4",
   "metadata": {},
   "outputs": [],
   "source": [
    "pal_obs_path = os.path.join(dataset_path, 'AV320250111t210400_005_L1B_ORT_8827a51f_OBS.nc')\n",
    "obs_ds = xr.open_datatree(pal_obs_path) # Observational parameters\n",
    "obs_ds "
   ]
  },
  {
   "cell_type": "code",
   "execution_count": null,
   "id": "5",
   "metadata": {},
   "outputs": [],
   "source": [
    "samples_coords = np.arange(1234)\n",
    "lines_coords = np.arange(1280)\n",
    "# Assign dummy coordinates\n",
    "pal_radiance = pal_ds.radiance.radiance.assign_coords({'samples':samples_coords, 'lines':lines_coords})\n",
    "pal_radiance"
   ]
  },
  {
   "cell_type": "code",
   "execution_count": null,
   "id": "6",
   "metadata": {},
   "outputs": [],
   "source": [
    "# observation parameters\n",
    "obs_params = obs_ds.observation_parameters.to_dataset().assign_coords({'samples':samples_coords, 'lines':lines_coords})\n",
    "obs_params"
   ]
  },
  {
   "cell_type": "markdown",
   "id": "7",
   "metadata": {},
   "source": [
    "# Sample Images/Plots"
   ]
  },
  {
   "cell_type": "code",
   "execution_count": null,
   "id": "8",
   "metadata": {},
   "outputs": [],
   "source": [
    "# Generate an RGB image\n",
    "def normalize(band):\n",
    "    band_min = band.min()\n",
    "    band_max = band.max()\n",
    "    return (band - band_min) / (band_max - band_min)\n",
    "\n",
    "red_ = pal_radiance.sel(wavelength=700, method='nearest')\n",
    "green_ = pal_radiance.sel(wavelength=550, method='nearest')\n",
    "blue_ = pal_radiance.sel(wavelength=400, method='nearest')\n",
    "\n",
    "red = normalize(red_)\n",
    "green = normalize(green_) \n",
    "blue = normalize(blue_)\n",
    "rgb_image = np.dstack((red.values, green.values, blue.values))\n",
    "plt.figure(figsize=(5, 5))\n",
    "plt.imshow(rgb_image)"
   ]
  },
  {
   "cell_type": "code",
   "execution_count": null,
   "id": "9",
   "metadata": {},
   "outputs": [],
   "source": [
    "red_ = pal_radiance.sel(wavelength=2200, method='nearest')\n",
    "green_ = pal_radiance.sel(wavelength=700, method='nearest')\n",
    "blue_ = pal_radiance.sel(wavelength=550, method='nearest')\n",
    "\n",
    "red = normalize(red_)\n",
    "green = normalize(green_)\n",
    "blue = normalize(blue_)\n",
    "rgb_image = np.dstack((red.values, green.values, blue.values))\n",
    "plt.figure(figsize=(5, 5))\n",
    "plt.imshow(rgb_image)"
   ]
  },
  {
   "cell_type": "code",
   "execution_count": null,
   "id": "10",
   "metadata": {},
   "outputs": [],
   "source": [
    "# Visualize the observation parameters\n",
    "fig, ax = uplt.subplots(ncols=2)\n",
    "obs_params.path_length.plot(ax=ax[0])\n",
    "ax[0].format(\n",
    "    title='Path Length',\n",
    "    yreverse=True,\n",
    ")\n",
    "\n",
    "obs_params.cosine_i.plot(ax=ax[1])\n",
    "ax[1].format(\n",
    "    title='cosine_i',\n",
    "    yreverse=True,\n",
    ")"
   ]
  },
  {
   "cell_type": "code",
   "execution_count": null,
   "id": "11",
   "metadata": {},
   "outputs": [],
   "source": [
    "# Visualize the observation parameters\n",
    "fig, axs = uplt.subplots(nrows=2, ncols=2)\n",
    "\n",
    "ax = axs[0,0]\n",
    "obs_params.to_sun_zenith.plot(ax=ax)\n",
    "ax.format(\n",
    "    title='Solar Zenith Angle',\n",
    "    yreverse=True,\n",
    ")\n",
    "\n",
    "ax = axs[0,1]\n",
    "obs_params.to_sun_azimuth.plot(ax=ax)\n",
    "ax.format(\n",
    "    title='Solar Azimuth Angle',\n",
    "    yreverse=True,\n",
    ")\n",
    "\n",
    "ax = axs[1,0]\n",
    "obs_params.to_sensor_zenith.plot(ax=ax)\n",
    "ax.format(\n",
    "    title='Sensor Zenith Angle',\n",
    "    yreverse=True,\n",
    ")\n",
    "\n",
    "ax = axs[1,1]\n",
    "obs_params.to_sensor_azimuth.plot(ax=ax)\n",
    "ax.format(\n",
    "    title='Sensor Azimuth Angle',\n",
    "    yreverse=True,\n",
    ")"
   ]
  },
  {
   "cell_type": "markdown",
   "id": "12",
   "metadata": {},
   "source": [
    "Both the solar zenith angle and azimuth angle can be treated as approximately constant throughout the read area.\n",
    "As for the sensor zenith angle and azimuth angle, there is considerable variation in the angles across the sample dimension, because the sensor is read from a pushbroom sensor on an aircraft. Therefore from an aircraft altitude, the line-of-sight angle from left-to-right across the pushbroom varies significantly."
   ]
  },
  {
   "cell_type": "markdown",
   "id": "13",
   "metadata": {},
   "source": [
    "# Simple Atmospheric Correction"
   ]
  },
  {
   "cell_type": "code",
   "execution_count": null,
   "id": "14",
   "metadata": {},
   "outputs": [],
   "source": [
    "import inspect"
   ]
  },
  {
   "cell_type": "code",
   "execution_count": null,
   "id": "15",
   "metadata": {},
   "outputs": [],
   "source": [
    "# From path length we assume an altitude of 5km\n",
    "# Create a 6S object from the viewing \n",
    "view = SixS()\n",
    "view.altitudes.set_target_sea_level()\n",
    "view.altitudes.set_sensor_custom_altitude(\n",
    "    altitude=5 # 5km altitude\n",
    ")\n",
    "# Set atmospheric profiles; Data from Table 2-2 in http://www.exelisvis.com/docs/FLAASH.html\n",
    "# For Los Angeles at a 34N latitude, recommended to set MidlatitudeSummer\n",
    "view.atmos_profile = AtmosProfile.PredefinedType(AtmosProfile.MidlatitudeSummer)\n",
    "# Aerosol profiles with pre-defined type\n",
    "view.aero_profile = AeroProfile.PredefinedType(AeroProfile.BiomassBurning)\n",
    "# Configure the sensor geometry\n",
    "view.geometry = Geometry.User()\n",
    "view.geometry.solar_z = 57.75\n",
    "view.geometry.solar_a = 197.55\n",
    "view.geometry.view_z = 0 # Assume fully Nadir-viewing\n",
    "view.geometry.view_a = 0 # Consistent with Nadir-view"
   ]
  },
  {
   "cell_type": "code",
   "execution_count": null,
   "id": "16",
   "metadata": {},
   "outputs": [],
   "source": [
    "# Set the wavelengths for the simulation\n",
    "wavelengths = pal_radiance.wavelength.values/1000 # Wavelengths in micrometres\n",
    "wv, res = SixSHelpers.Wavelengths.run_wavelengths(view, wavelengths)"
   ]
  },
  {
   "cell_type": "code",
   "execution_count": null,
   "id": "17",
   "metadata": {},
   "outputs": [],
   "source": [
    "inspect.getmembers(res[0])"
   ]
  },
  {
   "cell_type": "code",
   "execution_count": null,
   "id": "18",
   "metadata": {},
   "outputs": [],
   "source": [
    "# This produces an array of Py6S output objects arranged by wavelength\n",
    "res_T_gas = np.array([s.total_gaseous_transmittance for s in res]) # Total gaseous transmittance\n",
    "res_T_water = np.array([s.transmittance_water.total for s in res]) # Water vapour transmittance\n",
    "res_T_up = np.array([s.transmittance_total_scattering.upward for s in res]) # Upward scattering transmittance\n",
    "res_T_down = np.array([s.transmittance_total_scattering.downward for s in res]) # Downward scattering transmittance\n",
    "# Get atmospheric intrinsic reflectance, which is scattering path radiance multiplied by transmittance\n",
    "res_atm_ref = np.array([s.atmospheric_intrinsic_reflectance for s in res])\n"
   ]
  },
  {
   "cell_type": "code",
   "execution_count": null,
   "id": "19",
   "metadata": {},
   "outputs": [],
   "source": [
    "np.argwhere(np.isnan(res_T_up))"
   ]
  },
  {
   "cell_type": "code",
   "execution_count": null,
   "id": "20",
   "metadata": {},
   "outputs": [],
   "source": [
    "# Linearly interp the transmittance gaps\n",
    "def interp_nans(array):\n",
    "    xp = np.arange(len(array))\n",
    "    # Get nans\n",
    "    notnan = ~np.isnan(array)\n",
    "    return np.interp(xp, xp[notnan], array[notnan])\n",
    "\n",
    "res_T_up = interp_nans(res_T_up)\n",
    "res_T_down = interp_nans(res_T_down)\n",
    "res_atm_ref = interp_nans(res_atm_ref)"
   ]
  },
  {
   "cell_type": "code",
   "execution_count": null,
   "id": "21",
   "metadata": {},
   "outputs": [],
   "source": [
    "fig, ax = uplt.subplots(refwidth=6, refaspect=(2,1))\n",
    "ax.plot(wv, res_T_up, label='upward transmittance')\n",
    "ax.plot(wv, res_T_down, label='downward transmittance')\n",
    "ax.plot(wv, res_T_gas, label='gaseous transmittance')\n",
    "ax.plot(wv, res_atm_ref, label='atmospheric intrinsic reflectance')\n",
    "fig.legend(loc='b', ncols=2)\n"
   ]
  },
  {
   "cell_type": "code",
   "execution_count": null,
   "id": "22",
   "metadata": {},
   "outputs": [],
   "source": [
    "# Choose a random pixel to do atmospheric correction as a test\n",
    "pixel = pal_radiance.sel(lines=100, samples=1000)\n",
    "\n",
    "\n",
    "fig, ax = uplt.subplots(refwidth=6, refaspect=(2,1))\n",
    "ax.plot(wv, res_T_up, label='upward transmittance')\n",
    "ax.plot(wv, res_T_down, label='downward transmittance')\n",
    "ax.plot(wv, res_T_gas, label='gaseous transmittance')\n",
    "ax.plot(wv, res_atm_ref, label='atmospheric intrinsic reflectance')\n",
    "ax.plot(wv, pixel, label='pixel spectrum', c='k')\n",
    "fig.legend(loc='b', ncols=2)\n"
   ]
  },
  {
   "cell_type": "code",
   "execution_count": null,
   "id": "23",
   "metadata": {},
   "outputs": [],
   "source": [
    "# From the notes; relation of TOA radiance with ground radiance;\n",
    "# L_TOA = (L_ground/(1-S rho) T_up T_down + L_path) Tg\n",
    "# Neglecting the contribution from spherical albedo\n",
    "# L_TOA = L_ground T_up T_down Tg + atm_intr_refl\n",
    "# L_ground = (L_TOA - atm_intr_refl)/(T_up T_down T_g)\n",
    "\n",
    "pixel_ground = (pixel - res_atm_ref) / (res_T_up * res_T_down * res_T_gas)"
   ]
  },
  {
   "cell_type": "code",
   "execution_count": null,
   "id": "24",
   "metadata": {},
   "outputs": [],
   "source": [
    "fig, ax = uplt.subplots(refwidth=6, refaspect=(2,1))\n",
    "ax.plot(wv, res_T_gas, label='Gas trasmittance')\n",
    "ax.plot(wv, pixel, label='pixel spectrum', c='k')\n",
    "ax.plot(wv, pixel_ground, label='corrected pixel spectrum', c='r')\n",
    "ax.axhline(0.6, c='k', linestyle='--', lw=.5)\n",
    "fig.legend(loc='b', ncols=2)\n",
    "ax.format(\n",
    "    ylim=(0,5)\n",
    ")\n"
   ]
  },
  {
   "cell_type": "code",
   "execution_count": null,
   "id": "25",
   "metadata": {},
   "outputs": [],
   "source": [
    "# We define problematic bands and mask them\n",
    "# Mask all regions with less than 0.6 gaseous transmittance\n",
    "# This is a tradeoff to prevent large losses due to absorption spikes\n",
    "T_gas_cutoff = 0.6\n",
    "wv_mask = res_T_gas < T_gas_cutoff"
   ]
  },
  {
   "cell_type": "code",
   "execution_count": null,
   "id": "26",
   "metadata": {},
   "outputs": [],
   "source": [
    "fig, ax = uplt.subplots(refwidth=6, refaspect=(2,1))\n",
    "ax.plot(wv, res_T_gas, label='Gas trasmittance')\n",
    "ax.plot(wv, pixel, label='pixel spectrum', c='k')\n",
    "ax.plot(wv, pixel_ground.where(~wv_mask), label='corrected pixel spectrum', c='r')\n",
    "ax.axhline(0.6, c='k', linestyle='--', lw=.5)\n",
    "fig.legend(loc='b', ncols=2)\n",
    "ax.format(\n",
    "    ylim=(0,5)\n",
    ")"
   ]
  },
  {
   "cell_type": "code",
   "execution_count": null,
   "id": "27",
   "metadata": {},
   "outputs": [],
   "source": [
    "pixel_ground.where(~wv_mask).sel(wavelength=2430, method='nearest')"
   ]
  },
  {
   "cell_type": "markdown",
   "id": "28",
   "metadata": {},
   "source": [
    "## Dataset correction"
   ]
  },
  {
   "cell_type": "code",
   "execution_count": null,
   "id": "29",
   "metadata": {},
   "outputs": [],
   "source": [
    "pal_radiance.coords['wavelength']"
   ]
  },
  {
   "cell_type": "code",
   "execution_count": null,
   "id": "30",
   "metadata": {},
   "outputs": [],
   "source": [
    "# For xarray broadcasting, all of the terms need to be cast into dataarrays\n",
    "res_atm_ref_da = xr.DataArray(\n",
    "    res_atm_ref,\n",
    "    dims=('wavelength'),\n",
    "    coords={'wavelength': pal_radiance.coords['wavelength']}\n",
    ")\n",
    "res_T_up_da = xr.DataArray(\n",
    "    res_T_up,\n",
    "    dims=('wavelength'),\n",
    "    coords={'wavelength': pal_radiance.coords['wavelength']}\n",
    ")\n",
    "res_T_down_da = xr.DataArray(\n",
    "    res_T_down,\n",
    "    dims=('wavelength'),\n",
    "    coords={'wavelength': pal_radiance.coords['wavelength']}\n",
    ")\n",
    "res_T_gas_da = xr.DataArray(\n",
    "    res_T_gas,\n",
    "    dims=('wavelength'),\n",
    "    coords={'wavelength': pal_radiance.coords['wavelength']}\n",
    ")"
   ]
  },
  {
   "cell_type": "code",
   "execution_count": null,
   "id": "31",
   "metadata": {},
   "outputs": [],
   "source": [
    "wv_mask = res_T_gas_da < T_gas_cutoff"
   ]
  },
  {
   "cell_type": "code",
   "execution_count": null,
   "id": "32",
   "metadata": {},
   "outputs": [],
   "source": [
    "ground_radiance = (pal_radiance - res_atm_ref_da) / (res_T_up_da * res_T_down_da)"
   ]
  },
  {
   "cell_type": "code",
   "execution_count": null,
   "id": "33",
   "metadata": {},
   "outputs": [],
   "source": [
    "red_ = ground_radiance.sel(wavelength=700, method='nearest')\n",
    "green_ = ground_radiance.sel(wavelength=550, method='nearest')\n",
    "blue_ = ground_radiance.sel(wavelength=400, method='nearest')\n",
    "\n",
    "red = normalize(red_)\n",
    "green = normalize(green_) \n",
    "blue = normalize(blue_)\n",
    "rgb_image = np.dstack((red.values, green.values, blue.values))\n",
    "plt.figure(figsize=(5, 5))\n",
    "plt.imshow(rgb_image)"
   ]
  },
  {
   "cell_type": "code",
   "execution_count": null,
   "id": "34",
   "metadata": {},
   "outputs": [],
   "source": [
    "red_ = ground_radiance.sel(wavelength=2200, method='nearest')\n",
    "green_ = ground_radiance.sel(wavelength=700, method='nearest')\n",
    "blue_ = ground_radiance.sel(wavelength=550, method='nearest')\n",
    "\n",
    "red = normalize(red_)\n",
    "green = normalize(green_)\n",
    "blue = normalize(blue_)\n",
    "rgb_image = np.dstack((red.values, green.values, blue.values))\n",
    "plt.figure(figsize=(5, 5))\n",
    "plt.imshow(rgb_image)"
   ]
  },
  {
   "cell_type": "markdown",
   "id": "35",
   "metadata": {},
   "source": [
    "This simplistic atmospheric correction is very limited because it does not take into account:\n",
    "\n",
    "- Topography (cos_i) angle\n",
    "- Gaseous transmittance\n",
    "- Aerosol scattering from burning plumes\n",
    "- View angle and inhomogenous path lengths"
   ]
  },
  {
   "cell_type": "markdown",
   "id": "36",
   "metadata": {},
   "source": [
    "# HFDI Hotspot"
   ]
  },
  {
   "cell_type": "code",
   "execution_count": null,
   "id": "37",
   "metadata": {},
   "outputs": [],
   "source": [
    "# Calculate the HFDI index\n",
    "# Remember that HFDI was designed to be robust against atmospheric absorption\n",
    "pal_rad_2430 = pal_radiance.sel(wavelength=slice(2420,2440)).mean(dim='wavelength')\n",
    "pal_rad_2060 = pal_radiance.sel(wavelength=slice(2050,2070)).mean(dim='wavelength')\n",
    "pal_HFDI = (pal_rad_2430 - pal_rad_2060)/(pal_rad_2430 + pal_rad_2060)"
   ]
  },
  {
   "cell_type": "code",
   "execution_count": null,
   "id": "38",
   "metadata": {},
   "outputs": [],
   "source": [
    "fig, ax = uplt.subplots(refwidth=6)\n",
    "pal_HFDI.plot(ax=ax, vmin=-.5, vmax=.5, discrete=False, cmap='RdBu_r')\n",
    "ax.format(\n",
    "    yreverse=True,\n",
    "    suptitle='Palisades Fire 2025-01-11 HFDI Index'\n",
    ")"
   ]
  },
  {
   "cell_type": "code",
   "execution_count": null,
   "id": "39",
   "metadata": {},
   "outputs": [],
   "source": [
    "bins = np.linspace(-0.4, 0.4, 500)\n",
    "fig, ax = uplt.subplots(refwidth=6, refaspect=(3,1))\n",
    "_ = pal_HFDI.plot.hist(bins=bins, ax=ax)\n",
    "ax.format(\n",
    "    suptitle='Distribution of pixel HFDI'\n",
    ")"
   ]
  },
  {
   "cell_type": "markdown",
   "id": "40",
   "metadata": {},
   "source": [
    "This distribution looks like a skew-normal with a long-tail anomaly. Assume that background pixels follow a skew-normal distribution, and use this to determine an appropriate threshold."
   ]
  },
  {
   "cell_type": "code",
   "execution_count": null,
   "id": "41",
   "metadata": {},
   "outputs": [],
   "source": [
    "# Define a fire mask\n",
    "fire_mask = (pal_HFDI>0.1)\n",
    "background_mask = (pal_HFDI<0.1)"
   ]
  },
  {
   "cell_type": "code",
   "execution_count": null,
   "id": "42",
   "metadata": {},
   "outputs": [],
   "source": [
    "fig, ax = uplt.subplots(refwidth=6)\n",
    "fire_mask.plot(ax=ax, vmin=-.5, vmax=.5, discrete=False, cmap='RdBu_r')\n",
    "ax.plot(1120, 100, marker='o', c='r', s=1)\n",
    "ax.format(\n",
    "    yreverse=True,\n",
    "    suptitle='Palisades Fire 2025-01-11 HFDI > 0.01'\n",
    ")"
   ]
  },
  {
   "cell_type": "code",
   "execution_count": null,
   "id": "43",
   "metadata": {},
   "outputs": [],
   "source": [
    "# Now find the region in shade\n",
    "fig, ax = uplt.subplots()\n",
    "(np.absolute(obs_params.cosine_i) < 0.05).plot(ax=ax)\n",
    "ax.plot(800, 640, marker='o', c='r', s=1)"
   ]
  },
  {
   "cell_type": "markdown",
   "id": "44",
   "metadata": {},
   "source": [
    "# Test with individual pixels"
   ]
  },
  {
   "cell_type": "code",
   "execution_count": null,
   "id": "45",
   "metadata": {},
   "outputs": [],
   "source": [
    "# choose a fire pixel\n",
    "fire_pixel = ground_radiance.sel(samples=1200, lines=100)\n",
    "print('Fire pixel HFDI:', pal_HFDI.sel(samples=1120, lines=100).values)\n",
    "print('Unburnt pixel cosi:', obs_params.cosine_i.sel(samples=1120, lines=100).values)\n",
    "# choose an unburnt pixel\n",
    "unburnt_pixel = ground_radiance.sel(samples=200, lines=600)\n",
    "print('Unburnt pixel HFDI:', pal_HFDI.sel(samples=200, lines=600).values)\n",
    "print('Unburnt pixel cosi:', obs_params.cosine_i.sel(samples=200, lines=600).values)\n",
    "# choose a pixel in shade\n",
    "shade_pixel = ground_radiance.sel(samples=800, lines=640)\n",
    "print('Shade pixel HFDI:', pal_HFDI.sel(samples=800, lines=640).values)\n",
    "print('Shade pixel cosi:', obs_params.cosine_i.sel(samples=800, lines=640).values)"
   ]
  },
  {
   "cell_type": "code",
   "execution_count": null,
   "id": "46",
   "metadata": {},
   "outputs": [],
   "source": [
    "# Plot the test spectra\n",
    "fig, ax = uplt.subplots(refwidth=5, refaspect=(2,1))\n",
    "ax.plot(fire_pixel.where(~wv_mask), label='Fire pixel')\n",
    "ax.plot(unburnt_pixel.where(~wv_mask), label='Unburnt pixel')\n",
    "ax.plot(shade_pixel.where(~wv_mask), label='Shaded pixel')\n",
    "ax.legend()"
   ]
  },
  {
   "cell_type": "code",
   "execution_count": null,
   "id": "47",
   "metadata": {},
   "outputs": [],
   "source": [
    "# Should we restrict to a SWIR range?\n",
    "fig, ax = uplt.subplots(refwidth=5, refaspect=(2,1))\n",
    "ax.plot(fire_pixel - shade_pixel.where(~wv_mask), label='Fire pixel')\n",
    "ax.plot(unburnt_pixel - shade_pixel.where(~wv_mask), label='Unburnt pixel')\n",
    "ax.legend()"
   ]
  },
  {
   "cell_type": "code",
   "execution_count": null,
   "id": "48",
   "metadata": {},
   "outputs": [],
   "source": [
    "## Define the linear mixing spectral model\n",
    "## Nonlinear optimization is performed with respect to a simple L^2 loss\n",
    "from scipy import constants as c\n",
    "from scipy.interpolate import make_splrep\n",
    "\n",
    "class SpectralMixtureModel():\n",
    "    # Goal of the model is to infer\n",
    "    # 1) n_fire of T_i (temperatures)\n",
    "    # 2) n_fire of p_i (fire area fractions)\n",
    "    # 3) n_bkg of p_j (fire area fractions)\n",
    "\n",
    "    # There is a need to remove the reflected component of the land surface\n",
    "    # Either from direct sunlight or indirect illumination by the sky\n",
    "\n",
    "    def __init__(\n",
    "        self,\n",
    "        n_fire,\n",
    "        n_bkg,\n",
    "        bkg_spectra_lis, # List of spectra of len n_bkg\n",
    "        # All spectra should be spectral radiances following lambd\n",
    "    ):\n",
    "        # Design this class to be able to hold arbitrary number of endmembers\n",
    "        # But for actual purposes, have only one to two end members\n",
    "        self.n_fire = n_bkg\n",
    "        self.n_bkg = n_bkg\n",
    "        \n",
    "        if len(bkg_spectra_lis) != n_bkg:\n",
    "            raise ValueError(\"n_bkg must be the same as the length of bkg_spectra_lis!\")\n",
    "        self.bkg_spectra_lis = bkg_spectra_lis\n",
    "\n",
    "        # Create spline functions for the spectra\n",
    "        bkg_spectra_splines = []\n",
    "        for lambd, spectra in bkg_spectra_lis:\n",
    "            spline = make_splrep(\n",
    "                lambd,\n",
    "                spectra,\n",
    "                k=1,\n",
    "                s=0\n",
    "            )\n",
    "            bkg_spectra_splines.append(spline)\n",
    "\n",
    "        self.bkg_spectra_splines = bkg_spectra_splines\n",
    "\n",
    "    def print_properties(self):\n",
    "        print(\"Number of fire endmembers:\", n_fire)\n",
    "        print(\"Number of background endmembers:\", n_bkg)\n",
    "        print(\"Area fraction of fire endmembers:\", T_fracs)\n",
    "        print(\"Area fraction of background endmembers:\", bkg_fracs)\n",
    "\n",
    "    def _planck(self, T, lambd):\n",
    "        top = 2 * c.h * c.c**2\n",
    "        bottom = lambd**5 * (np.exp((c.h * c.c)/(c.k * T)) - 1)\n",
    "        return top/bottom\n",
    "    \n",
    "    def get_fire_spectra(self, lambd, T_tup):\n",
    "        result_list = list()\n",
    "        for T in T_tup:\n",
    "            spectra = self._planck(T, lambd)\n",
    "            result_list.append(spectra)\n",
    "        return np.array(result_list)\n",
    "    \n",
    "    def get_bkg_spectra(self, lambd):\n",
    "        result_list = list()\n",
    "        for spline in self.bkg_spectra_splines:\n",
    "            result_list.append(spline(lambd))\n",
    "        return np.array(result_list)\n",
    "\n",
    "    def total_radiance(self, lambd, T_tup, T_fracs, bkg_fracs):\n",
    "        # noise is given as an absolute radiance value for 1 std\n",
    "        fire_spectra = self.get_fire_spectra(lambd, T_tup)\n",
    "        bkg_spectra = self.get_bkg_spectra(lambd)\n",
    "\n",
    "        result = np.zeros_like(lambd)\n",
    "        for frac, spectra in zip(T_fracs, fire_spectra):\n",
    "            result += frac * spectra\n",
    "\n",
    "        for frac, spectra in zip(bkg_fracs, bkg_spectra):\n",
    "            result += frac * spectra\n",
    "    \n",
    "        return result"
   ]
  },
  {
   "cell_type": "code",
   "execution_count": null,
   "id": "49",
   "metadata": {},
   "outputs": [],
   "source": [
    "bkg_spectra_1 = unburnt_pixel.where(~wv_mask).dropna(dim='wavelength')\n",
    "bkg_spectra_1"
   ]
  },
  {
   "cell_type": "code",
   "execution_count": null,
   "id": "50",
   "metadata": {},
   "outputs": [],
   "source": [
    "# Create a spectral mixture model instance\n",
    "# Retrieve the unpurnt pixel spectra as the bkg spectra\n",
    "mask_lambds = bkg_spectra_1.wavelength.values\n",
    "simple_model = SpectralMixtureModel(\n",
    "    n_fire=1,\n",
    "    n_bkg=1,\n",
    "    bkg_spectra_lis=[(mask_lambds, bkg_spectra_1.values)],    \n",
    ")"
   ]
  },
  {
   "cell_type": "code",
   "execution_count": null,
   "id": "51",
   "metadata": {},
   "outputs": [],
   "source": [
    "srad = simple_model.total_radiance(\n",
    "    lambd=mask_lambds,\n",
    "    T_tup = (1200,),\n",
    "    T_fracs = (0.1,),\n",
    "    bkg_fracs = (0.9,),\n",
    ")"
   ]
  },
  {
   "cell_type": "code",
   "execution_count": null,
   "id": "52",
   "metadata": {},
   "outputs": [],
   "source": [
    "# Plot the test spectra\n",
    "fig, ax = uplt.subplots(refwidth=5, refaspect=(2,1))\n",
    "ax.plot(fire_pixel.where(~wv_mask), label='Fire pixel')\n",
    "ax.plot(unburnt_pixel.where(~wv_mask), label='Unburnt pixel')\n",
    "ax.plot(mask_lambds, srad, label='mixture model ouput')\n",
    "ax.legend()"
   ]
  },
  {
   "cell_type": "code",
   "execution_count": null,
   "id": "53",
   "metadata": {},
   "outputs": [],
   "source": [
    "def retrieve_params(result, model):\n",
    "    n_fire = model.n_fire\n",
    "    n_bkg = model.n_bkg\n",
    "    params = result.x\n",
    "    T_tup = params[:n_fire] * 1000\n",
    "    T_frac = params[n_fire:2*n_fire]\n",
    "    if len(params) >= 2*n_fire:\n",
    "        bkg_fracs = tuple(params[2*n_fire:]) + (1 - np.sum(params[n_fire:]),)\n",
    "    else:\n",
    "        bkg_fracs = (1 - np.sum(params[n_fire:]),)\n",
    "    print(\"The fire temperatures in K are: \", T_tup)\n",
    "    print(\"The fire fractions are: \", T_frac)\n",
    "    print(\"The background fractions are: \", bkg_fracs)\n",
    "    return T_tup, T_frac, bkg_fracs\n",
    "\n",
    "# T, T_frac, bkg_frac = retrieve_params(srad)"
   ]
  },
  {
   "cell_type": "markdown",
   "id": "54",
   "metadata": {},
   "source": [
    "## Applying the Spectral Mixture Model (2 fire endmembers and 1 background endmember)"
   ]
  },
  {
   "cell_type": "code",
   "execution_count": null,
   "id": "55",
   "metadata": {},
   "outputs": [],
   "source": [
    "simple_model = SpectralMixtureModel(\n",
    "    n_fire=2,\n",
    "    n_bkg=1,\n",
    "    bkg_spectra_lis=[(mask_lambds, bkg_spectra_1.values)]\n",
    ")"
   ]
  },
  {
   "cell_type": "code",
   "execution_count": null,
   "id": "56",
   "metadata": {},
   "outputs": [],
   "source": [
    "# Model inversion\n",
    "# Define the loss function\n",
    "\n",
    "def return_loss(model, lambd, target):\n",
    "    n_fire = model.n_fire\n",
    "    n_bkg = model.n_bkg\n",
    "\n",
    "    # The parameter vector is an ndarray of shape (2*n_fire + n_bkg-1,)\n",
    "    # Arguments are organized in the following order\n",
    "    # [T_i, p_i_fire, p*_j_bkg]\n",
    "    # Note that in order to satisfy the p_i_fire + p_j_bkg = 1 constraint,\n",
    "    # The last p_j_bkg parameter is omitted and calculated from 1 - all\n",
    "\n",
    "    def loss(params):\n",
    "        # Unpact the parameters and normalize them appropriately\n",
    "        T_tup = tuple(params[:n_fire]*1000) # 1000 K scale\n",
    "        T_fracs = tuple(params[n_fire:2*n_fire])\n",
    "        # Enforcing land fraction constraint\n",
    "        if len(params) >= 2*n_fire:\n",
    "            bkg_fracs = tuple(params[2*n_fire:]) + (1 - np.sum(params[n_fire:]),)\n",
    "        else:\n",
    "            bkg_fracs = (1 - np.sum(params[n_fire:]),)\n",
    "\n",
    "        prediction = model.total_radiance(lambd, T_tup, T_fracs, bkg_fracs)\n",
    "        diff = target - prediction\n",
    "        return np.sum(diff**2) # L2 norm\n",
    "\n",
    "    return loss"
   ]
  },
  {
   "cell_type": "code",
   "execution_count": null,
   "id": "57",
   "metadata": {},
   "outputs": [],
   "source": [
    "def planck_radiance(wavelength_nm, T, emissivity=1.0):\n",
    "    \"\"\"Returns spectral radiance [W/m^2/sr/nm] at a given temperature.\"\"\"\n",
    "    wavelength_m = wavelength_nm * 1e-9\n",
    "    term1 = 2 * c.h * c.c**2 / wavelength_m**5\n",
    "    exponent = c.h * c.c / (wavelength_m * c.k * T)\n",
    "    term2 = 1 / (np.exp(exponent) - 1)\n",
    "    return emissivity * term1 * term2 * 1e-9  # Convert to per nm\n",
    "\n",
    "def model_radiance(params, wavelengths, L_bkg, L_obs):\n",
    "    T1, T2, p1, p2 = params\n",
    "    if not (0 <= p1 <= 1 and 0 <= p2 <= 1 and p1 + p2 <= 1):\n",
    "        return 1e6  # penalize invalid fractions\n",
    "    p_b = 1 - p1 - p2\n",
    "    L1 = planck_radiance(wavelengths, T1)\n",
    "    L2 = planck_radiance(wavelengths, T2)\n",
    "    L_model = p1 * L1 + p2 * L2 + p_b * L_bkg\n",
    "    return np.sqrt(np.mean((L_model - L_obs)**2))  # RMSE"
   ]
  },
  {
   "cell_type": "code",
   "execution_count": null,
   "id": "58",
   "metadata": {},
   "outputs": [],
   "source": [
    "wavelengths = wavelengths * 1e3 # Converting to nm\n",
    "mask = (mask_lambds > 1000)  # SWIR window\n",
    "usable_lambds = mask_lambds[mask]"
   ]
  },
  {
   "cell_type": "code",
   "execution_count": null,
   "id": "59",
   "metadata": {},
   "outputs": [],
   "source": [
    "x = pal_radiance.sel(lines=98, samples=148)\n",
    "x.sel(wavelength=usable_lambds, method='nearest')"
   ]
  },
  {
   "cell_type": "code",
   "execution_count": null,
   "id": "60",
   "metadata": {},
   "outputs": [],
   "source": [
    "# Compiling the coordinates of all background points (negative HFDI)\n",
    "background_lines = []\n",
    "background_samples = []\n",
    "\n",
    "line = 0\n",
    "for row in background_mask:\n",
    "    sample = 0\n",
    "    for boolean in row:\n",
    "        if boolean == True:\n",
    "            background_samples.append(sample)\n",
    "            background_lines.append(line)\n",
    "        sample += 1\n",
    "    line += 1\n",
    "\n",
    "background_coordinates = [(background_lines[i], background_samples[i]) for i in range(len(background_lines))]"
   ]
  },
  {
   "cell_type": "code",
   "execution_count": null,
   "id": "61",
   "metadata": {},
   "outputs": [],
   "source": [
    "fire_pixel = pal_radiance.sel(lines=100, samples=1100, wavelength=usable_lambds, method='nearest')\n",
    "fire_pixel_ = pal_radiance.sel(lines= 100, samples=1100, method='nearest')\n",
    "fire_pixel_ = fire_pixel_.where(~wv_mask)\n",
    "\n",
    "\n",
    "pixel_HFDI = pal_HFDI.sel(lines=100, samples=1100)\n",
    "\n",
    "# # Select 15 random background pixels\n",
    "lst_of_background_pixels = []\n",
    "for i in range(15):\n",
    "    random_index = np.random.randint(0, len(background_coordinates))\n",
    "    lst_of_background_pixels.append(pal_radiance.sel(lines=background_coordinates[random_index][0],\n",
    "                                                     samples=background_coordinates[random_index][1],\n",
    "                                                     wavelength=usable_lambds,\n",
    "                                                     method='nearest'))\n",
    "\n",
    "\n",
    "bkg_pixels = np.array(lst_of_background_pixels)\n",
    "bkg_pixels"
   ]
  },
  {
   "cell_type": "code",
   "execution_count": null,
   "id": "62",
   "metadata": {},
   "outputs": [],
   "source": [
    "# Perform fitting N times\n",
    "import random\n",
    "\n",
    "def monte_carlo_real_data(L_obs_clean, bkg_pool, wavelengths, n_runs=15, noise_std=0.01):\n",
    "    results = []\n",
    "\n",
    "    for _ in range(n_runs):\n",
    "        # Pick one random background spectrum\n",
    "        L_obs_clean\n",
    "        L_b = bkg_pool[random.randint(0, len(bkg_pixels) - 1)]\n",
    "        \n",
    "        # Add noise\n",
    "        L_obs_noisy = L_obs_clean + np.random.normal(0, noise_std, size=L_obs_clean.shape)\n",
    "\n",
    "        # Fit\n",
    "        x0 = [1200, 600, \n",
    "            #   700, 600, # for showing optimisation scheme falling into local minima and giving bad results for temp estimation\n",
    "            #   820, 600  # for showing optimisation scheme falling into local minima and giving bad results for temp estimation\n",
    "              0.1, 0.1]\n",
    "        bounds = [(600, 1500), (400, 1000), (0, 1), (0, 1)]\n",
    "        result = minimize(\n",
    "            model_radiance,\n",
    "            x0,\n",
    "            args=(wavelengths, L_b, L_obs_noisy),\n",
    "            bounds=bounds,\n",
    "            method='L-BFGS-B'\n",
    "        )\n",
    "\n",
    "        if result.success:\n",
    "            results.append(result.x)\n",
    "\n",
    "    results = np.array(results)\n",
    "    if len(results) == 0:\n",
    "        return None\n",
    "\n",
    "    means = np.mean(results, axis=0)\n",
    "    stds = np.std(results, axis=0)\n",
    "\n",
    "    return {\n",
    "        \"T1_mean\": means[0], \"T1_std\": stds[0],\n",
    "        \"T2_mean\": means[1], \"T2_std\": stds[1],\n",
    "        \"p1_mean\": means[2], \"p1_std\": stds[2],\n",
    "        \"p2_mean\": means[3], \"p2_std\": stds[3],\n",
    "        \"p_bkg_mean\": 1 - means[2] - means[3],\n",
    "        \"p_bkg_std\": np.sqrt(stds[2]**2 + stds[3]**2)\n",
    "    }\n",
    "\n",
    "# Run it\n",
    "result = monte_carlo_real_data(fire_pixel, bkg_pixels, usable_lambds)\n",
    "\n",
    "if result:\n",
    "    print(result)"
   ]
  },
  {
   "cell_type": "code",
   "execution_count": null,
   "id": "63",
   "metadata": {},
   "outputs": [],
   "source": [
    "fig, ax = plt.subplots(figsize=(10,5))\n",
    "\n",
    "T1_mean = result['T1_mean']\n",
    "T2_mean = result['T2_mean']\n",
    "p1_mean = result['p1_mean']\n",
    "p2_mean = result['p2_mean']\n",
    "\n",
    "\n",
    "fire1_contribution = planck_radiance(usable_lambds, result['T1_mean'])\n",
    "fire2_contribution = planck_radiance(usable_lambds, result['T2_mean'])\n",
    "\n",
    "lmm_output = result['p1_mean'] * fire1_contribution + result['p2_mean'] * fire2_contribution + result['p_bkg_mean'] * np.mean(bkg_pixels, axis=0)\n",
    "\n",
    "# ax.plot(usable_wavelengths, result['p1_mean'] * fire1_contribution, label='fire1')\n",
    "# ax.plot(usable_wavelengths, result['p2_mean'] * fire2_contribution, label='fire2')\n",
    "# ax.plot(usable_wavelengths, result['p_bkg_mean'] * np.mean(bkg_pixels, axis=0), label='background')\n",
    "# ax.set_title('2 fire contribution terms and 1 background contribution term')\n",
    "ax.plot(wavelengths/1e3, fire_pixel_, label='Fire pixel')\n",
    "ax.plot(usable_lambds, lmm_output, label=rf'Fitted spectra, $T_1 =$ {T1_mean:.2f}K, $p_1 =$ {p1_mean:.5f}, $T_2 =$ {T2_mean:.2f}K, $p_2 =$ {p2_mean:.5f}')\n",
    "\n",
    "ax.legend()\n",
    "\n",
    "ax.set_xlabel('Wavelength centers (nm)')\n",
    "ax.set_ylabel(r'Spectral radiance (W/$\\text{m}^2$ sr nm)')\n",
    "ax.set_title(f'Fit_results, n_bkg=1, n_fire=2, pixel_HFDI={pixel_HFDI:.2f}')\n",
    "\n",
    "fig_path = os.path.join('figs', 'aviris_plots')\n",
    "plt.savefig(os.path.join(fig_path, 'aviris_bad(localminima).png'), dpi=300)"
   ]
  },
  {
   "cell_type": "code",
   "execution_count": null,
   "id": "64",
   "metadata": {},
   "outputs": [],
   "source": []
  },
  {
   "cell_type": "code",
   "execution_count": null,
   "id": "65",
   "metadata": {},
   "outputs": [],
   "source": []
  }
 ],
 "metadata": {
  "kernelspec": {
   "display_name": "PC4262_project",
   "language": "python",
   "name": "python3"
  },
  "language_info": {
   "codemirror_mode": {
    "name": "ipython",
    "version": 3
   },
   "file_extension": ".py",
   "mimetype": "text/x-python",
   "name": "python",
   "nbconvert_exporter": "python",
   "pygments_lexer": "ipython3",
   "version": "3.13.2"
  }
 },
 "nbformat": 4,
 "nbformat_minor": 5
}
