{
 "cells": [
  {
   "cell_type": "code",
   "execution_count": null,
   "id": "0",
   "metadata": {},
   "outputs": [],
   "source": [
    "import numpy as np\n",
    "import xarray as xr\n",
    "import matplotlib.pyplot as plt\n",
    "import ultraplot as uplt\n",
    "from scipy import stats\n",
    "from Py6S import *\n",
    "import numpy.ma as ma"
   ]
  },
  {
   "cell_type": "code",
   "execution_count": null,
   "id": "1",
   "metadata": {},
   "outputs": [],
   "source": [
    "## Define the linear mixing spectral model\n",
    "## Nonlinear optimization is performed with respect to a simple L^2 loss\n",
    "from scipy import constants as c\n",
    "from scipy.interpolate import make_splrep\n",
    "from mixture_model import SpectralMixtureModel, estimate_params_unconstrained"
   ]
  },
  {
   "cell_type": "code",
   "execution_count": null,
   "id": "2",
   "metadata": {},
   "outputs": [],
   "source": [
    "SixS.test()"
   ]
  },
  {
   "cell_type": "markdown",
   "id": "3",
   "metadata": {},
   "source": [
    "# Hotspot Identification"
   ]
  },
  {
   "cell_type": "code",
   "execution_count": null,
   "id": "4",
   "metadata": {},
   "outputs": [],
   "source": [
    "pal_rad_path = 'datasets\\palisades_fire\\AV320250111t210400_005_L1B_RDN_3f4aef90_RDN.nc'\n",
    "pal_mask_path = 'datasets\\palisades_fire\\AV320250111t210400_005_L1B_RDN_3f4aef90_BANDMASK.nc'\n",
    "pal_ds = xr.open_datatree(pal_rad_path)\n",
    "pal_ds"
   ]
  },
  {
   "cell_type": "code",
   "execution_count": null,
   "id": "5",
   "metadata": {},
   "outputs": [],
   "source": [
    "pal_obs_path = 'datasets\\palisades_fire\\AV320250111t210400_005_L1B_ORT_8827a51f_OBS.nc'\n",
    "obs_ds = xr.open_datatree(pal_obs_path) # Observational parameters\n",
    "obs_ds "
   ]
  },
  {
   "cell_type": "code",
   "execution_count": null,
   "id": "6",
   "metadata": {},
   "outputs": [],
   "source": [
    "samples_coords = np.arange(1234)\n",
    "lines_coords = np.arange(1280)\n",
    "# Assign dummy coordinates\n",
    "pal_radiance = pal_ds.radiance.radiance.assign_coords({'samples':samples_coords, 'lines':lines_coords})\n",
    "pal_radiance"
   ]
  },
  {
   "cell_type": "code",
   "execution_count": null,
   "id": "7",
   "metadata": {},
   "outputs": [],
   "source": [
    "# observation parameters\n",
    "obs_params = obs_ds.observation_parameters.to_dataset().assign_coords({'samples':samples_coords, 'lines':lines_coords})\n",
    "obs_params"
   ]
  },
  {
   "cell_type": "markdown",
   "id": "8",
   "metadata": {},
   "source": [
    "# Sample Images/Plots"
   ]
  },
  {
   "cell_type": "code",
   "execution_count": null,
   "id": "9",
   "metadata": {},
   "outputs": [],
   "source": [
    "# Generate an RGB image\n",
    "def normalize(band):\n",
    "    band_min = band.min()\n",
    "    band_max = band.max()\n",
    "    return (band - band_min) / (band_max - band_min)\n",
    "\n",
    "red_ = pal_radiance.sel(wavelength=700, method='nearest')\n",
    "green_ = pal_radiance.sel(wavelength=550, method='nearest')\n",
    "blue_ = pal_radiance.sel(wavelength=400, method='nearest')\n",
    "\n",
    "red = normalize(red_)\n",
    "green = normalize(green_) \n",
    "blue = normalize(blue_)\n",
    "rgb_image = np.dstack((red.values, green.values, blue.values))\n",
    "plt.figure(figsize=(5, 5))\n",
    "plt.imshow(rgb_image)"
   ]
  },
  {
   "cell_type": "code",
   "execution_count": null,
   "id": "10",
   "metadata": {},
   "outputs": [],
   "source": [
    "red_ = pal_radiance.sel(wavelength=2200, method='nearest')\n",
    "green_ = pal_radiance.sel(wavelength=700, method='nearest')\n",
    "blue_ = pal_radiance.sel(wavelength=550, method='nearest')\n",
    "\n",
    "red = normalize(red_)\n",
    "green = normalize(green_)\n",
    "blue = normalize(blue_)\n",
    "rgb_image = np.dstack((red.values, green.values, blue.values))\n",
    "plt.figure(figsize=(5, 5))\n",
    "plt.imshow(rgb_image)"
   ]
  },
  {
   "cell_type": "code",
   "execution_count": null,
   "id": "11",
   "metadata": {},
   "outputs": [],
   "source": [
    "# Visualize the observation parameters\n",
    "fig, ax = uplt.subplots(ncols=2)\n",
    "obs_params.path_length.plot(ax=ax[0])\n",
    "ax[0].format(\n",
    "    title='Path Length',\n",
    "    yreverse=True,\n",
    ")\n",
    "\n",
    "obs_params.cosine_i.plot(ax=ax[1])\n",
    "ax[1].format(\n",
    "    title='cosine_i',\n",
    "    yreverse=True,\n",
    ")\n",
    "plt.savefig('plots/view_params.png')"
   ]
  },
  {
   "cell_type": "code",
   "execution_count": null,
   "id": "12",
   "metadata": {},
   "outputs": [],
   "source": [
    "# Visualize the observation parameters\n",
    "fig, axs = uplt.subplots(nrows=2, ncols=2)\n",
    "\n",
    "ax = axs[0,0]\n",
    "obs_params.to_sun_zenith.plot(ax=ax)\n",
    "ax.format(\n",
    "    title='Solar Zenith Angle',\n",
    "    yreverse=True,\n",
    ")\n",
    "\n",
    "ax = axs[0,1]\n",
    "obs_params.to_sun_azimuth.plot(ax=ax)\n",
    "ax.format(\n",
    "    title='Solar Azimuth Angle',\n",
    "    yreverse=True,\n",
    ")\n",
    "\n",
    "ax = axs[1,0]\n",
    "obs_params.to_sensor_zenith.plot(ax=ax)\n",
    "ax.format(\n",
    "    title='Sensor Zenith Angle',\n",
    "    yreverse=True,\n",
    ")\n",
    "\n",
    "ax = axs[1,1]\n",
    "obs_params.to_sensor_azimuth.plot(ax=ax)\n",
    "ax.format(\n",
    "    title='Sensor Azimuth Angle',\n",
    "    yreverse=True,\n",
    ")\n",
    "plt.savefig('plots/view_angles.png')"
   ]
  },
  {
   "cell_type": "markdown",
   "id": "13",
   "metadata": {},
   "source": [
    "Both the solar zenith angle and azimuth angle can be treated as approximately constant throughout the read area.\n",
    "As for the sensor zenith angle and azimuth angle, there is considerable variation in the angles across the sample dimension, because the sensor is read from a pushbroom sensor on an aircraft. Therefore from an aircraft altitude, the line-of-sight angle from left-to-right across the pushbroom varies significantly."
   ]
  },
  {
   "cell_type": "markdown",
   "id": "14",
   "metadata": {},
   "source": [
    "# Simple Atmospheric Correction"
   ]
  },
  {
   "cell_type": "code",
   "execution_count": null,
   "id": "15",
   "metadata": {},
   "outputs": [],
   "source": [
    "import inspect"
   ]
  },
  {
   "cell_type": "code",
   "execution_count": null,
   "id": "16",
   "metadata": {},
   "outputs": [],
   "source": [
    "# From path length we assume an altitude of 5km\n",
    "# Create a 6S object from the viewing \n",
    "view = SixS()\n",
    "view.altitudes.set_target_sea_level()\n",
    "view.altitudes.set_sensor_custom_altitude(\n",
    "    altitude=5 # 5km altitude\n",
    ")\n",
    "# Set atmospheric profiles; Data from Table 2-2 in http://www.exelisvis.com/docs/FLAASH.html\n",
    "# For Los Angeles at a 34N latitude, recommended to set MidlatitudeSummer\n",
    "view.atmos_profile = AtmosProfile.PredefinedType(AtmosProfile.MidlatitudeSummer)\n",
    "# Aerosol profiles with pre-defined type\n",
    "view.aero_profile = AeroProfile.PredefinedType(AeroProfile.BiomassBurning)\n",
    "# Configure the sensor geometry\n",
    "view.geometry = Geometry.User()\n",
    "view.geometry.solar_z = 57.75\n",
    "view.geometry.solar_a = 197.55\n",
    "view.geometry.view_z = 0 # Assume fully Nadir-viewing\n",
    "view.geometry.view_a = 0 # Consistent with Nadir-view"
   ]
  },
  {
   "cell_type": "code",
   "execution_count": null,
   "id": "17",
   "metadata": {},
   "outputs": [],
   "source": [
    "# Set the wavelengths for the simulation\n",
    "wavelengths = pal_radiance.wavelength.values/1000 # Wavelengths in micrometres\n",
    "wv, res = SixSHelpers.Wavelengths.run_wavelengths(view, wavelengths)"
   ]
  },
  {
   "cell_type": "code",
   "execution_count": null,
   "id": "18",
   "metadata": {},
   "outputs": [],
   "source": [
    "inspect.getmembers(res[0])"
   ]
  },
  {
   "cell_type": "code",
   "execution_count": null,
   "id": "19",
   "metadata": {},
   "outputs": [],
   "source": [
    "# This produces an array of Py6S output objects arranged by wavelength\n",
    "res_T_gas = np.array([s.total_gaseous_transmittance for s in res]) # Total gaseous transmittance\n",
    "res_T_water = np.array([s.transmittance_water.total for s in res]) # Water vapour transmittance\n",
    "res_T_up = np.array([s.transmittance_total_scattering.upward for s in res]) # Upward scattering transmittance\n",
    "res_T_down = np.array([s.transmittance_total_scattering.downward for s in res]) # Downward scattering transmittance\n",
    "# Get atmospheric intrinsic reflectance, which is scattering path radiance multiplied by transmittance\n",
    "res_atm_ref = np.array([s.atmospheric_intrinsic_reflectance for s in res])\n"
   ]
  },
  {
   "cell_type": "code",
   "execution_count": null,
   "id": "20",
   "metadata": {},
   "outputs": [],
   "source": [
    "np.argwhere(np.isnan(res_T_up))"
   ]
  },
  {
   "cell_type": "code",
   "execution_count": null,
   "id": "21",
   "metadata": {},
   "outputs": [],
   "source": [
    "# Linearly interp the transmittance gaps\n",
    "def interp_nans(array):\n",
    "    xp = np.arange(len(array))\n",
    "    # Get nans\n",
    "    notnan = ~np.isnan(array)\n",
    "    return np.interp(xp, xp[notnan], array[notnan])\n",
    "\n",
    "res_T_up = interp_nans(res_T_up)\n",
    "res_T_down = interp_nans(res_T_down)\n",
    "res_atm_ref = interp_nans(res_atm_ref)"
   ]
  },
  {
   "cell_type": "code",
   "execution_count": null,
   "id": "22",
   "metadata": {},
   "outputs": [],
   "source": [
    "fig, ax = uplt.subplots(refwidth=6, refaspect=(2,1))\n",
    "ax.plot(wv, res_T_up, label='upward transmittance')\n",
    "ax.plot(wv, res_T_down, label='downward transmittance')\n",
    "ax.plot(wv, res_T_gas, label='gaseous transmittance')\n",
    "ax.plot(wv, res_atm_ref, label='atmospheric intrinsic reflectance')\n",
    "fig.legend(loc='b', ncols=2)\n"
   ]
  },
  {
   "cell_type": "code",
   "execution_count": null,
   "id": "23",
   "metadata": {},
   "outputs": [],
   "source": [
    "# Choose a random pixel to do atmospheric correction as a test\n",
    "pixel = pal_radiance.sel(lines=100, samples=1000)\n",
    "\n",
    "\n",
    "fig, ax = uplt.subplots(refwidth=6, refaspect=(2,1))\n",
    "ax.plot(wv, res_T_up, label='upward transmittance')\n",
    "ax.plot(wv, res_T_down, label='downward transmittance')\n",
    "ax.plot(wv, res_T_gas, label='gaseous transmittance')\n",
    "ax.plot(wv, res_atm_ref, label='atmospheric intrinsic reflectance')\n",
    "ax.plot(wv, pixel, label='pixel spectrum', c='k')\n",
    "ax.format(suptitle='py6S output')\n",
    "fig.legend(loc='b', ncols=2)\n",
    "plt.savefig('plots/6S_results.png')"
   ]
  },
  {
   "cell_type": "code",
   "execution_count": null,
   "id": "24",
   "metadata": {},
   "outputs": [],
   "source": [
    "# From the notes; relation of TOA radiance with ground radiance;\n",
    "# L_TOA = (L_ground/(1-S rho) T_up T_down + L_path) Tg\n",
    "# Neglecting the contribution from spherical albedo\n",
    "# L_TOA = L_ground T_up T_down Tg + atm_intr_refl\n",
    "# L_ground = (L_TOA - atm_intr_refl)/(T_up T_down T_g)\n",
    "\n",
    "pixel_ground = (pixel - res_atm_ref) / (res_T_up * res_T_down * res_T_gas)"
   ]
  },
  {
   "cell_type": "code",
   "execution_count": null,
   "id": "25",
   "metadata": {},
   "outputs": [],
   "source": [
    "fig, ax = uplt.subplots(refwidth=6, refaspect=(2,1))\n",
    "ax.plot(wv, res_T_gas, label='Gas trasmittance')\n",
    "ax.plot(wv, pixel, label='pixel spectrum', c='k')\n",
    "ax.plot(wv, pixel_ground, label='corrected pixel spectrum', c='r')\n",
    "ax.axhline(0.6, c='k', linestyle='--', lw=.5)\n",
    "fig.legend(loc='b', ncols=2)\n",
    "ax.format(\n",
    "    ylim=(0,5),\n",
    "    suptitle='Basic atmospheric correction for test pixel'\n",
    ")"
   ]
  },
  {
   "cell_type": "code",
   "execution_count": null,
   "id": "26",
   "metadata": {},
   "outputs": [],
   "source": [
    "# We define problematic bands and mask them\n",
    "# Mask all regions with less than 0.6 gaseous transmittance\n",
    "# This is a tradeoff to prevent large losses due to absorption spikes\n",
    "T_gas_cutoff = 0.6\n",
    "wv_mask = res_T_gas < T_gas_cutoff"
   ]
  },
  {
   "cell_type": "code",
   "execution_count": null,
   "id": "27",
   "metadata": {},
   "outputs": [],
   "source": [
    "fig, ax = uplt.subplots(refwidth=6, refaspect=(2,1))\n",
    "ax.plot(wv, res_T_gas, label='Gas trasmittance')\n",
    "ax.plot(wv, pixel, label='pixel spectrum', c='k')\n",
    "ax.plot(wv, pixel_ground.where(~wv_mask), label='corrected pixel spectrum', c='r')\n",
    "ax.axhline(0.6, c='k', linestyle='--', lw=.5)\n",
    "fig.legend(loc='b', ncols=2)\n",
    "ax.format(\n",
    "    ylim=(0,5),\n",
    "    suptitle='Basic atmospheric correction for test pixel'\n",
    ")\n",
    "plt.savefig('plots/single_pixel_correction.png')"
   ]
  },
  {
   "cell_type": "code",
   "execution_count": null,
   "id": "28",
   "metadata": {},
   "outputs": [],
   "source": [
    "pixel_ground.where(~wv_mask).sel(wavelength=2430, method='nearest')"
   ]
  },
  {
   "cell_type": "markdown",
   "id": "29",
   "metadata": {},
   "source": [
    "## Dataset correction"
   ]
  },
  {
   "cell_type": "code",
   "execution_count": null,
   "id": "30",
   "metadata": {},
   "outputs": [],
   "source": [
    "pal_radiance.coords['wavelength']"
   ]
  },
  {
   "cell_type": "code",
   "execution_count": null,
   "id": "31",
   "metadata": {},
   "outputs": [],
   "source": [
    "# For xarray broadcasting, all of the terms need to be cast into dataarrays\n",
    "res_atm_ref_da = xr.DataArray(\n",
    "    res_atm_ref,\n",
    "    dims=('wavelength'),\n",
    "    coords={'wavelength': pal_radiance.coords['wavelength']}\n",
    ")\n",
    "res_T_up_da = xr.DataArray(\n",
    "    res_T_up,\n",
    "    dims=('wavelength'),\n",
    "    coords={'wavelength': pal_radiance.coords['wavelength']}\n",
    ")\n",
    "res_T_down_da = xr.DataArray(\n",
    "    res_T_down,\n",
    "    dims=('wavelength'),\n",
    "    coords={'wavelength': pal_radiance.coords['wavelength']}\n",
    ")\n",
    "res_T_gas_da = xr.DataArray(\n",
    "    res_T_gas,\n",
    "    dims=('wavelength'),\n",
    "    coords={'wavelength': pal_radiance.coords['wavelength']}\n",
    ")"
   ]
  },
  {
   "cell_type": "code",
   "execution_count": null,
   "id": "32",
   "metadata": {},
   "outputs": [],
   "source": [
    "wv_mask = res_T_gas_da < T_gas_cutoff"
   ]
  },
  {
   "cell_type": "code",
   "execution_count": null,
   "id": "33",
   "metadata": {},
   "outputs": [],
   "source": [
    "# Save everything as a dataset\n",
    "sixs_ds = xr.merge([wv_mask.rename('mask'), \n",
    "    res_atm_ref_da.rename('atmospheric_path_reflectance'), \n",
    "    res_T_up_da.rename('upward_atmospheric_transmittance'),\n",
    "    res_T_down_da.rename('downward_atmospheric_transmittance'),\n",
    "    res_T_gas_da.rename('gaseous_transmittance'),\n",
    "    ])\n",
    "\n",
    "#sixs_ds.to_netcdf('datasets/sixs_output.nc')"
   ]
  },
  {
   "cell_type": "code",
   "execution_count": null,
   "id": "34",
   "metadata": {},
   "outputs": [],
   "source": [
    "ground_radiance = (pal_radiance - res_atm_ref_da) / (res_T_up_da * res_T_down_da)"
   ]
  },
  {
   "cell_type": "code",
   "execution_count": null,
   "id": "35",
   "metadata": {},
   "outputs": [],
   "source": [
    "red_ = ground_radiance.sel(wavelength=700, method='nearest')\n",
    "green_ = ground_radiance.sel(wavelength=550, method='nearest')\n",
    "blue_ = ground_radiance.sel(wavelength=400, method='nearest')\n",
    "\n",
    "red = normalize(red_)\n",
    "green = normalize(green_) \n",
    "blue = normalize(blue_)\n",
    "rgb_image = np.dstack((red.values, green.values, blue.values))\n",
    "plt.figure(figsize=(5, 5))\n",
    "plt.imshow(rgb_image)\n",
    "plt.savefig('plots/RGB_image.png')"
   ]
  },
  {
   "cell_type": "code",
   "execution_count": null,
   "id": "36",
   "metadata": {},
   "outputs": [],
   "source": [
    "red_ = ground_radiance.sel(wavelength=2200, method='nearest')\n",
    "green_ = ground_radiance.sel(wavelength=700, method='nearest')\n",
    "blue_ = ground_radiance.sel(wavelength=550, method='nearest')\n",
    "\n",
    "red = normalize(red_)\n",
    "green = normalize(green_)\n",
    "blue = normalize(blue_)\n",
    "rgb_image = np.dstack((red.values, green.values, blue.values))\n",
    "plt.figure(figsize=(5, 5))\n",
    "plt.imshow(rgb_image)\n",
    "plt.savefig('plots/false_colour_image.png')"
   ]
  },
  {
   "cell_type": "markdown",
   "id": "37",
   "metadata": {},
   "source": [
    "This simplistic atmospheric correction is very limited because it does not take into account:\n",
    "\n",
    "- Topography (cos_i) angle\n",
    "- Gaseous transmittance\n",
    "- Aerosol scattering from burning plumes\n",
    "- View angle and inhomogenous path lengths"
   ]
  },
  {
   "cell_type": "markdown",
   "id": "38",
   "metadata": {},
   "source": [
    "# HFDI Hotspot"
   ]
  },
  {
   "cell_type": "code",
   "execution_count": null,
   "id": "39",
   "metadata": {},
   "outputs": [],
   "source": [
    "# Calculate the HFDI index\n",
    "# Remember that HFDI was designed to be robust against atmospheric absorption\n",
    "pal_rad_2430 = pal_radiance.sel(wavelength=slice(2420,2440)).mean(dim='wavelength')\n",
    "pal_rad_2060 = pal_radiance.sel(wavelength=slice(2050,2070)).mean(dim='wavelength')\n",
    "pal_HFDI = (pal_rad_2430 - pal_rad_2060)/(pal_rad_2430 + pal_rad_2060)"
   ]
  },
  {
   "cell_type": "code",
   "execution_count": null,
   "id": "40",
   "metadata": {},
   "outputs": [],
   "source": [
    "fig, ax = uplt.subplots(refwidth=6)\n",
    "pal_HFDI.plot(ax=ax, vmin=-.5, vmax=.5, discrete=False, cmap='RdBu_r')\n",
    "ax.format(\n",
    "    yreverse=True,\n",
    "    suptitle='Palisades Fire 2025-01-11 HFDI Index'\n",
    ")\n",
    "plt.savefig('plots/HFDI_index.png')"
   ]
  },
  {
   "cell_type": "code",
   "execution_count": null,
   "id": "41",
   "metadata": {},
   "outputs": [],
   "source": [
    "bins = np.linspace(-0.4, 0.4, 500)\n",
    "fig, ax = uplt.subplots(refwidth=6, refaspect=(3,1))\n",
    "_ = pal_HFDI.plot.hist(bins=bins, ax=ax)\n",
    "ax.format(\n",
    "    suptitle='Distribution of pixel HFDI'\n",
    ")\n",
    "plt.savefig('plots/HFDI_distribution.png')"
   ]
  },
  {
   "cell_type": "markdown",
   "id": "42",
   "metadata": {},
   "source": [
    "This distribution looks like a skew-normal with a long-tail anomaly. Assume that background pixels follow a skew-normal distribution, and use this to determine an appropriate threshold."
   ]
  },
  {
   "cell_type": "code",
   "execution_count": null,
   "id": "43",
   "metadata": {},
   "outputs": [],
   "source": [
    "# Define a fire mask\n",
    "fire_mask = (pal_HFDI>0.1)"
   ]
  },
  {
   "cell_type": "code",
   "execution_count": null,
   "id": "44",
   "metadata": {},
   "outputs": [],
   "source": [
    "fig, ax = uplt.subplots(refwidth=3)\n",
    "fire_mask.plot(ax=ax, vmin=-.5, vmax=.5, discrete=False, cmap='RdBu_r')\n",
    "ax.plot(500, 1050, marker='o', c='r', s=1)\n",
    "ax.format(\n",
    "    yreverse=True,\n",
    "    suptitle='Palisades Fire 2025-01-11 HFDI > 0.01'\n",
    ")"
   ]
  },
  {
   "cell_type": "code",
   "execution_count": null,
   "id": "45",
   "metadata": {},
   "outputs": [],
   "source": [
    "# Now find the region in shade\n",
    "fig, ax = uplt.subplots()\n",
    "(np.absolute(obs_params.cosine_i) < 0.05).plot(ax=ax)\n",
    "ax.plot(800, 640, marker='o', c='r', s=1)"
   ]
  },
  {
   "cell_type": "markdown",
   "id": "46",
   "metadata": {},
   "source": [
    "# Test with individual pixels"
   ]
  },
  {
   "cell_type": "code",
   "execution_count": null,
   "id": "47",
   "metadata": {},
   "outputs": [],
   "source": [
    "# choose a fire pixel\n",
    "fire_pixel = ground_radiance.sel(samples=500, lines=1050)\n",
    "print('Fire pixel HFDI:', pal_HFDI.sel(samples=500, lines=1050).values)\n",
    "print('Unburnt pixel cosi:', obs_params.cosine_i.sel(samples=500, lines=1050).values)\n",
    "# choose an unburnt pixel\n",
    "unburnt_pixel = ground_radiance.sel(samples=200, lines=600)\n",
    "print('Unburnt pixel HFDI:', pal_HFDI.sel(samples=200, lines=600).values)\n",
    "print('Unburnt pixel cosi:', obs_params.cosine_i.sel(samples=200, lines=600).values)\n",
    "# choose a pixel in shade\n",
    "shade_pixel = ground_radiance.sel(samples=800, lines=640)\n",
    "print('Shade pixel HFDI:', pal_HFDI.sel(samples=800, lines=640).values)\n",
    "print('Shade pixel cosi:', obs_params.cosine_i.sel(samples=800, lines=640).values)"
   ]
  },
  {
   "cell_type": "code",
   "execution_count": null,
   "id": "48",
   "metadata": {},
   "outputs": [],
   "source": [
    "# Plot the test spectra\n",
    "fig, ax = uplt.subplots(refwidth=4, refaspect=(2,1))\n",
    "ax.plot(fire_pixel.where(~wv_mask), label='Fire pixel')\n",
    "ax.plot(unburnt_pixel.where(~wv_mask), label='Unburnt pixel')\n",
    "ax.plot(shade_pixel.where(~wv_mask), label='Shaded pixel')\n",
    "ax.legend()"
   ]
  },
  {
   "cell_type": "code",
   "execution_count": null,
   "id": "49",
   "metadata": {},
   "outputs": [],
   "source": [
    "## Define the linear mixing spectral model\n",
    "## Nonlinear optimization is performed with respect to a simple L^2 loss\n",
    "from scipy import constants as c\n",
    "from scipy.interpolate import make_splrep\n",
    "from mixture_model import SpectralMixtureModel, estimate_params_unconstrained"
   ]
  },
  {
   "cell_type": "code",
   "execution_count": null,
   "id": "50",
   "metadata": {},
   "outputs": [],
   "source": [
    "bkg_spectra_1 = unburnt_pixel.where(~wv_mask).dropna(dim='wavelength')\n",
    "bkg_spectra_1"
   ]
  },
  {
   "cell_type": "code",
   "execution_count": null,
   "id": "51",
   "metadata": {},
   "outputs": [],
   "source": [
    "fire_spectra = fire_pixel.where(~wv_mask).dropna(dim='wavelength')"
   ]
  },
  {
   "cell_type": "code",
   "execution_count": null,
   "id": "52",
   "metadata": {},
   "outputs": [],
   "source": [
    "# Create a spectral mixture model instance\n",
    "# Retrieve the unpurnt pixel spectra as the bkg spectra\n",
    "mask_lambds = bkg_spectra_1.wavelength.values\n",
    "simple_model = SpectralMixtureModel(\n",
    "    n_fire=1,\n",
    "    n_bkg=1,\n",
    "    bkg_spectra_lis=[(mask_lambds, bkg_spectra_1.values)],\n",
    "    SI=False,    \n",
    ")"
   ]
  },
  {
   "cell_type": "code",
   "execution_count": null,
   "id": "53",
   "metadata": {},
   "outputs": [],
   "source": [
    "# Invert the parameters\n",
    "result, params = estimate_params_unconstrained(\n",
    "    model=simple_model,\n",
    "    lambd=mask_lambds,\n",
    "    target=fire_spectra,\n",
    "    x0=np.array([1., 0.0,]), # Temperature in terms of 1000Kd\n",
    ")"
   ]
  },
  {
   "cell_type": "code",
   "execution_count": null,
   "id": "54",
   "metadata": {},
   "outputs": [],
   "source": [
    "fitted_spectra = simple_model.total_radiance(\n",
    "    mask_lambds, params[0], params[1], params[2]\n",
    ")"
   ]
  },
  {
   "cell_type": "code",
   "execution_count": null,
   "id": "55",
   "metadata": {},
   "outputs": [],
   "source": [
    "# Plot the test spectra\n",
    "fig, ax = uplt.subplots(refwidth=4, refaspect=(2,1))\n",
    "ax.plot(fire_pixel.where(~wv_mask), label=f'Fire pixel')\n",
    "ax.plot(mask_lambds, fitted_spectra, label=f'Fitted spectra, frac={params[1][0]:.3}, T={params[0][0]:.4}K')\n",
    "ax.legend(ncols=1)"
   ]
  },
  {
   "cell_type": "code",
   "execution_count": null,
   "id": "56",
   "metadata": {},
   "outputs": [],
   "source": []
  }
 ],
 "metadata": {
  "kernelspec": {
   "display_name": "PC4262_project",
   "language": "python",
   "name": "python3"
  },
  "language_info": {
   "codemirror_mode": {
    "name": "ipython",
    "version": 3
   },
   "file_extension": ".py",
   "mimetype": "text/x-python",
   "name": "python",
   "nbconvert_exporter": "python",
   "pygments_lexer": "ipython3",
   "version": "3.13.2"
  }
 },
 "nbformat": 4,
 "nbformat_minor": 5
}
